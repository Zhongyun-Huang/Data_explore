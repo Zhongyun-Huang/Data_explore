{
 "cells": [
  {
   "cell_type": "code",
   "execution_count": 1,
   "metadata": {
    "collapsed": false
   },
   "outputs": [
    {
     "name": "stderr",
     "output_type": "stream",
     "text": [
      "/Users/zybell/anaconda2/lib/python2.7/site-packages/sklearn/cross_validation.py:44: DeprecationWarning: This module was deprecated in version 0.18 in favor of the model_selection module into which all the refactored classes and functions are moved. Also note that the interface of the new CV iterators are different from that of this module. This module will be removed in 0.20.\n",
      "  \"This module will be removed in 0.20.\", DeprecationWarning)\n"
     ]
    }
   ],
   "source": [
    "import numpy as np\n",
    "import scipy as sp\n",
    "import pandas as pd\n",
    "\n",
    "import statsmodels.api as sm\n",
    "import matplotlib.pyplot as plt\n",
    "import seaborn as sns\n",
    "%matplotlib inline\n",
    "\n",
    "from sklearn import metrics\n",
    "from sklearn import svm\n",
    "from sklearn.linear_model import LogisticRegression\n",
    "from sklearn.cross_validation import train_test_split\n",
    "from sklearn.cross_validation import cross_val_score\n",
    "from sklearn.neighbors import KNeighborsClassifier\n",
    "from sklearn.ensemble import RandomForestClassifier, AdaBoostClassifier\n",
    "\n",
    "from sklearn.model_selection import GridSearchCV\n",
    "from sklearn.model_selection import RandomizedSearchCV"
   ]
  },
  {
   "cell_type": "markdown",
   "metadata": {},
   "source": [
    "# Task 1"
   ]
  },
  {
   "cell_type": "code",
   "execution_count": 2,
   "metadata": {
    "collapsed": false
   },
   "outputs": [
    {
     "name": "stderr",
     "output_type": "stream",
     "text": [
      "/Users/zybell/anaconda2/lib/python2.7/site-packages/IPython/core/interactiveshell.py:2717: DtypeWarning: Columns (10) have mixed types. Specify dtype option on import or set low_memory=False.\n",
      "  interactivity=interactivity, compiler=compiler, result=result)\n"
     ]
    }
   ],
   "source": [
    "NPI = pd.read_table('Medicare_Physician_and_Other_Supplier_NPI_Aggregate_CY2014.txt')"
   ]
  },
  {
   "cell_type": "code",
   "execution_count": 3,
   "metadata": {
    "collapsed": false
   },
   "outputs": [
    {
     "data": {
      "text/html": [
       "<div>\n",
       "<table border=\"1\" class=\"dataframe\">\n",
       "  <thead>\n",
       "    <tr style=\"text-align: right;\">\n",
       "      <th></th>\n",
       "      <th>npi</th>\n",
       "      <th>nppes_provider_last_org_name</th>\n",
       "      <th>nppes_provider_first_name</th>\n",
       "      <th>nppes_provider_mi</th>\n",
       "      <th>nppes_credentials</th>\n",
       "      <th>nppes_provider_gender</th>\n",
       "      <th>nppes_entity_code</th>\n",
       "      <th>nppes_provider_street1</th>\n",
       "      <th>nppes_provider_street2</th>\n",
       "      <th>nppes_provider_city</th>\n",
       "      <th>...</th>\n",
       "      <th>beneficiary_cc_depr_percent</th>\n",
       "      <th>beneficiary_cc_diab_percent</th>\n",
       "      <th>beneficiary_cc_hyperl_percent</th>\n",
       "      <th>beneficiary_cc_hypert_percent</th>\n",
       "      <th>beneficiary_cc_ihd_percent</th>\n",
       "      <th>beneficiary_cc_ost_percent</th>\n",
       "      <th>beneficiary_cc_raoa_percent</th>\n",
       "      <th>beneficiary_cc_schiot_percent</th>\n",
       "      <th>beneficiary_cc_strk_percent</th>\n",
       "      <th>Beneficiary_Average_Risk_Score</th>\n",
       "    </tr>\n",
       "  </thead>\n",
       "  <tbody>\n",
       "    <tr>\n",
       "      <th>0</th>\n",
       "      <td>1003000126</td>\n",
       "      <td>ENKESHAFI</td>\n",
       "      <td>ARDALAN</td>\n",
       "      <td>NaN</td>\n",
       "      <td>M.D.</td>\n",
       "      <td>M</td>\n",
       "      <td>I</td>\n",
       "      <td>900 SETON DR</td>\n",
       "      <td>NaN</td>\n",
       "      <td>CUMBERLAND</td>\n",
       "      <td>...</td>\n",
       "      <td>46.0</td>\n",
       "      <td>52.0</td>\n",
       "      <td>70.0</td>\n",
       "      <td>75.0</td>\n",
       "      <td>68.0</td>\n",
       "      <td>14.0</td>\n",
       "      <td>53.0</td>\n",
       "      <td>18.0</td>\n",
       "      <td>20.0</td>\n",
       "      <td>2.2206</td>\n",
       "    </tr>\n",
       "    <tr>\n",
       "      <th>1</th>\n",
       "      <td>1003000134</td>\n",
       "      <td>CIBULL</td>\n",
       "      <td>THOMAS</td>\n",
       "      <td>L</td>\n",
       "      <td>M.D.</td>\n",
       "      <td>M</td>\n",
       "      <td>I</td>\n",
       "      <td>2650 RIDGE AVE</td>\n",
       "      <td>EVANSTON HOSPITAL</td>\n",
       "      <td>EVANSTON</td>\n",
       "      <td>...</td>\n",
       "      <td>12.0</td>\n",
       "      <td>20.0</td>\n",
       "      <td>53.0</td>\n",
       "      <td>57.0</td>\n",
       "      <td>28.0</td>\n",
       "      <td>9.0</td>\n",
       "      <td>37.0</td>\n",
       "      <td>1.0</td>\n",
       "      <td>3.0</td>\n",
       "      <td>1.0007</td>\n",
       "    </tr>\n",
       "    <tr>\n",
       "      <th>2</th>\n",
       "      <td>1003000142</td>\n",
       "      <td>KHALIL</td>\n",
       "      <td>RASHID</td>\n",
       "      <td>NaN</td>\n",
       "      <td>M.D.</td>\n",
       "      <td>M</td>\n",
       "      <td>I</td>\n",
       "      <td>4126 N HOLLAND SYLVANIA RD</td>\n",
       "      <td>SUITE 220</td>\n",
       "      <td>TOLEDO</td>\n",
       "      <td>...</td>\n",
       "      <td>44.0</td>\n",
       "      <td>48.0</td>\n",
       "      <td>61.0</td>\n",
       "      <td>75.0</td>\n",
       "      <td>41.0</td>\n",
       "      <td>8.0</td>\n",
       "      <td>75.0</td>\n",
       "      <td>9.0</td>\n",
       "      <td>NaN</td>\n",
       "      <td>1.7777</td>\n",
       "    </tr>\n",
       "    <tr>\n",
       "      <th>3</th>\n",
       "      <td>1003000407</td>\n",
       "      <td>GIRARDI</td>\n",
       "      <td>DAVID</td>\n",
       "      <td>J</td>\n",
       "      <td>D.O.</td>\n",
       "      <td>M</td>\n",
       "      <td>I</td>\n",
       "      <td>456 MAGEE AVE</td>\n",
       "      <td>NaN</td>\n",
       "      <td>PATTON</td>\n",
       "      <td>...</td>\n",
       "      <td>47.0</td>\n",
       "      <td>40.0</td>\n",
       "      <td>59.0</td>\n",
       "      <td>75.0</td>\n",
       "      <td>62.0</td>\n",
       "      <td>11.0</td>\n",
       "      <td>45.0</td>\n",
       "      <td>19.0</td>\n",
       "      <td>10.0</td>\n",
       "      <td>1.7228</td>\n",
       "    </tr>\n",
       "    <tr>\n",
       "      <th>4</th>\n",
       "      <td>1003000423</td>\n",
       "      <td>VELOTTA</td>\n",
       "      <td>JENNIFER</td>\n",
       "      <td>A</td>\n",
       "      <td>M.D.</td>\n",
       "      <td>F</td>\n",
       "      <td>I</td>\n",
       "      <td>11100 EUCLID AVE</td>\n",
       "      <td>NaN</td>\n",
       "      <td>CLEVELAND</td>\n",
       "      <td>...</td>\n",
       "      <td>32.0</td>\n",
       "      <td>23.0</td>\n",
       "      <td>51.0</td>\n",
       "      <td>46.0</td>\n",
       "      <td>19.0</td>\n",
       "      <td>NaN</td>\n",
       "      <td>32.0</td>\n",
       "      <td>NaN</td>\n",
       "      <td>NaN</td>\n",
       "      <td>0.9101</td>\n",
       "    </tr>\n",
       "  </tbody>\n",
       "</table>\n",
       "<p>5 rows × 70 columns</p>\n",
       "</div>"
      ],
      "text/plain": [
       "          npi nppes_provider_last_org_name nppes_provider_first_name  \\\n",
       "0  1003000126                    ENKESHAFI                   ARDALAN   \n",
       "1  1003000134                       CIBULL                    THOMAS   \n",
       "2  1003000142                       KHALIL                    RASHID   \n",
       "3  1003000407                      GIRARDI                     DAVID   \n",
       "4  1003000423                      VELOTTA                  JENNIFER   \n",
       "\n",
       "  nppes_provider_mi nppes_credentials nppes_provider_gender nppes_entity_code  \\\n",
       "0               NaN              M.D.                     M                 I   \n",
       "1                 L              M.D.                     M                 I   \n",
       "2               NaN              M.D.                     M                 I   \n",
       "3                 J              D.O.                     M                 I   \n",
       "4                 A              M.D.                     F                 I   \n",
       "\n",
       "       nppes_provider_street1 nppes_provider_street2 nppes_provider_city  \\\n",
       "0                900 SETON DR                    NaN          CUMBERLAND   \n",
       "1              2650 RIDGE AVE      EVANSTON HOSPITAL            EVANSTON   \n",
       "2  4126 N HOLLAND SYLVANIA RD              SUITE 220              TOLEDO   \n",
       "3               456 MAGEE AVE                    NaN              PATTON   \n",
       "4            11100 EUCLID AVE                    NaN           CLEVELAND   \n",
       "\n",
       "                ...               beneficiary_cc_depr_percent  \\\n",
       "0               ...                                      46.0   \n",
       "1               ...                                      12.0   \n",
       "2               ...                                      44.0   \n",
       "3               ...                                      47.0   \n",
       "4               ...                                      32.0   \n",
       "\n",
       "  beneficiary_cc_diab_percent beneficiary_cc_hyperl_percent  \\\n",
       "0                        52.0                          70.0   \n",
       "1                        20.0                          53.0   \n",
       "2                        48.0                          61.0   \n",
       "3                        40.0                          59.0   \n",
       "4                        23.0                          51.0   \n",
       "\n",
       "  beneficiary_cc_hypert_percent beneficiary_cc_ihd_percent  \\\n",
       "0                          75.0                       68.0   \n",
       "1                          57.0                       28.0   \n",
       "2                          75.0                       41.0   \n",
       "3                          75.0                       62.0   \n",
       "4                          46.0                       19.0   \n",
       "\n",
       "   beneficiary_cc_ost_percent  beneficiary_cc_raoa_percent  \\\n",
       "0                        14.0                         53.0   \n",
       "1                         9.0                         37.0   \n",
       "2                         8.0                         75.0   \n",
       "3                        11.0                         45.0   \n",
       "4                         NaN                         32.0   \n",
       "\n",
       "   beneficiary_cc_schiot_percent  beneficiary_cc_strk_percent  \\\n",
       "0                           18.0                         20.0   \n",
       "1                            1.0                          3.0   \n",
       "2                            9.0                          NaN   \n",
       "3                           19.0                         10.0   \n",
       "4                            NaN                          NaN   \n",
       "\n",
       "   Beneficiary_Average_Risk_Score  \n",
       "0                          2.2206  \n",
       "1                          1.0007  \n",
       "2                          1.7777  \n",
       "3                          1.7228  \n",
       "4                          0.9101  \n",
       "\n",
       "[5 rows x 70 columns]"
      ]
     },
     "execution_count": 3,
     "metadata": {},
     "output_type": "execute_result"
    }
   ],
   "source": [
    "NPI.head()"
   ]
  },
  {
   "cell_type": "code",
   "execution_count": 4,
   "metadata": {
    "collapsed": false
   },
   "outputs": [
    {
     "data": {
      "text/html": [
       "<div>\n",
       "<table border=\"1\" class=\"dataframe\">\n",
       "  <thead>\n",
       "    <tr style=\"text-align: right;\">\n",
       "      <th></th>\n",
       "      <th>npi</th>\n",
       "      <th>number_of_hcpcs</th>\n",
       "      <th>total_services</th>\n",
       "      <th>total_unique_benes</th>\n",
       "      <th>total_submitted_chrg_amt</th>\n",
       "      <th>total_medicare_allowed_amt</th>\n",
       "      <th>total_medicare_payment_amt</th>\n",
       "      <th>total_medicare_stnd_amt</th>\n",
       "      <th>number_of_drug_hcpcs</th>\n",
       "      <th>total_drug_services</th>\n",
       "      <th>...</th>\n",
       "      <th>beneficiary_cc_depr_percent</th>\n",
       "      <th>beneficiary_cc_diab_percent</th>\n",
       "      <th>beneficiary_cc_hyperl_percent</th>\n",
       "      <th>beneficiary_cc_hypert_percent</th>\n",
       "      <th>beneficiary_cc_ihd_percent</th>\n",
       "      <th>beneficiary_cc_ost_percent</th>\n",
       "      <th>beneficiary_cc_raoa_percent</th>\n",
       "      <th>beneficiary_cc_schiot_percent</th>\n",
       "      <th>beneficiary_cc_strk_percent</th>\n",
       "      <th>Beneficiary_Average_Risk_Score</th>\n",
       "    </tr>\n",
       "  </thead>\n",
       "  <tbody>\n",
       "    <tr>\n",
       "      <th>count</th>\n",
       "      <td>9.866770e+05</td>\n",
       "      <td>986677.000000</td>\n",
       "      <td>9.866770e+05</td>\n",
       "      <td>9.866770e+05</td>\n",
       "      <td>9.866770e+05</td>\n",
       "      <td>9.866770e+05</td>\n",
       "      <td>9.866770e+05</td>\n",
       "      <td>9.866770e+05</td>\n",
       "      <td>883567.000000</td>\n",
       "      <td>8.835670e+05</td>\n",
       "      <td>...</td>\n",
       "      <td>827752.000000</td>\n",
       "      <td>847364.000000</td>\n",
       "      <td>913013.000000</td>\n",
       "      <td>934284.000000</td>\n",
       "      <td>841621.000000</td>\n",
       "      <td>617374.000000</td>\n",
       "      <td>884690.000000</td>\n",
       "      <td>516824.000000</td>\n",
       "      <td>546038.000000</td>\n",
       "      <td>986677.000000</td>\n",
       "    </tr>\n",
       "    <tr>\n",
       "      <th>mean</th>\n",
       "      <td>1.499657e+09</td>\n",
       "      <td>32.583957</td>\n",
       "      <td>2.685515e+03</td>\n",
       "      <td>3.684959e+02</td>\n",
       "      <td>3.326049e+05</td>\n",
       "      <td>1.200399e+05</td>\n",
       "      <td>9.209262e+04</td>\n",
       "      <td>9.144818e+04</td>\n",
       "      <td>2.043133</td>\n",
       "      <td>9.705095e+02</td>\n",
       "      <td>...</td>\n",
       "      <td>30.514393</td>\n",
       "      <td>36.445008</td>\n",
       "      <td>57.097108</td>\n",
       "      <td>67.096606</td>\n",
       "      <td>39.645125</td>\n",
       "      <td>9.963272</td>\n",
       "      <td>44.097786</td>\n",
       "      <td>9.281045</td>\n",
       "      <td>8.500361</td>\n",
       "      <td>1.489883</td>\n",
       "    </tr>\n",
       "    <tr>\n",
       "      <th>std</th>\n",
       "      <td>2.880157e+08</td>\n",
       "      <td>35.755980</td>\n",
       "      <td>3.637059e+04</td>\n",
       "      <td>2.878940e+03</td>\n",
       "      <td>2.321402e+06</td>\n",
       "      <td>6.110722e+05</td>\n",
       "      <td>5.520058e+05</td>\n",
       "      <td>5.334284e+05</td>\n",
       "      <td>5.593653</td>\n",
       "      <td>1.157377e+04</td>\n",
       "      <td>...</td>\n",
       "      <td>15.100434</td>\n",
       "      <td>12.365744</td>\n",
       "      <td>11.776989</td>\n",
       "      <td>10.043063</td>\n",
       "      <td>15.120318</td>\n",
       "      <td>5.529963</td>\n",
       "      <td>12.954647</td>\n",
       "      <td>12.225311</td>\n",
       "      <td>7.781422</td>\n",
       "      <td>0.720481</td>\n",
       "    </tr>\n",
       "    <tr>\n",
       "      <th>min</th>\n",
       "      <td>1.003000e+09</td>\n",
       "      <td>1.000000</td>\n",
       "      <td>1.100000e+01</td>\n",
       "      <td>1.100000e+01</td>\n",
       "      <td>4.500000e+01</td>\n",
       "      <td>2.700000e+00</td>\n",
       "      <td>0.000000e+00</td>\n",
       "      <td>0.000000e+00</td>\n",
       "      <td>0.000000</td>\n",
       "      <td>0.000000e+00</td>\n",
       "      <td>...</td>\n",
       "      <td>0.000000</td>\n",
       "      <td>0.000000</td>\n",
       "      <td>0.000000</td>\n",
       "      <td>0.000000</td>\n",
       "      <td>0.000000</td>\n",
       "      <td>0.000000</td>\n",
       "      <td>0.000000</td>\n",
       "      <td>0.000000</td>\n",
       "      <td>0.000000</td>\n",
       "      <td>0.271300</td>\n",
       "    </tr>\n",
       "    <tr>\n",
       "      <th>25%</th>\n",
       "      <td>1.245577e+09</td>\n",
       "      <td>9.000000</td>\n",
       "      <td>1.930000e+02</td>\n",
       "      <td>6.600000e+01</td>\n",
       "      <td>2.922000e+04</td>\n",
       "      <td>1.378413e+04</td>\n",
       "      <td>1.036583e+04</td>\n",
       "      <td>1.069117e+04</td>\n",
       "      <td>0.000000</td>\n",
       "      <td>0.000000e+00</td>\n",
       "      <td>...</td>\n",
       "      <td>20.000000</td>\n",
       "      <td>28.000000</td>\n",
       "      <td>49.000000</td>\n",
       "      <td>61.000000</td>\n",
       "      <td>28.000000</td>\n",
       "      <td>7.000000</td>\n",
       "      <td>35.000000</td>\n",
       "      <td>2.000000</td>\n",
       "      <td>4.000000</td>\n",
       "      <td>1.005400</td>\n",
       "    </tr>\n",
       "    <tr>\n",
       "      <th>50%</th>\n",
       "      <td>1.497966e+09</td>\n",
       "      <td>21.000000</td>\n",
       "      <td>5.590000e+02</td>\n",
       "      <td>1.740000e+02</td>\n",
       "      <td>1.092050e+05</td>\n",
       "      <td>4.287645e+04</td>\n",
       "      <td>3.195630e+04</td>\n",
       "      <td>3.203132e+04</td>\n",
       "      <td>0.000000</td>\n",
       "      <td>0.000000e+00</td>\n",
       "      <td>...</td>\n",
       "      <td>28.000000</td>\n",
       "      <td>35.000000</td>\n",
       "      <td>58.000000</td>\n",
       "      <td>72.000000</td>\n",
       "      <td>37.000000</td>\n",
       "      <td>9.000000</td>\n",
       "      <td>42.000000</td>\n",
       "      <td>6.000000</td>\n",
       "      <td>7.000000</td>\n",
       "      <td>1.294700</td>\n",
       "    </tr>\n",
       "    <tr>\n",
       "      <th>75%</th>\n",
       "      <td>1.750301e+09</td>\n",
       "      <td>43.000000</td>\n",
       "      <td>1.632000e+03</td>\n",
       "      <td>3.910000e+02</td>\n",
       "      <td>3.112064e+05</td>\n",
       "      <td>1.163251e+05</td>\n",
       "      <td>8.724571e+04</td>\n",
       "      <td>8.667023e+04</td>\n",
       "      <td>2.000000</td>\n",
       "      <td>3.400000e+01</td>\n",
       "      <td>...</td>\n",
       "      <td>37.000000</td>\n",
       "      <td>43.000000</td>\n",
       "      <td>66.000000</td>\n",
       "      <td>75.000000</td>\n",
       "      <td>50.000000</td>\n",
       "      <td>12.000000</td>\n",
       "      <td>51.000000</td>\n",
       "      <td>11.000000</td>\n",
       "      <td>12.000000</td>\n",
       "      <td>1.796200</td>\n",
       "    </tr>\n",
       "    <tr>\n",
       "      <th>max</th>\n",
       "      <td>1.993000e+09</td>\n",
       "      <td>1095.000000</td>\n",
       "      <td>1.210750e+07</td>\n",
       "      <td>1.350844e+06</td>\n",
       "      <td>8.314468e+08</td>\n",
       "      <td>1.701440e+08</td>\n",
       "      <td>1.660135e+08</td>\n",
       "      <td>1.634007e+08</td>\n",
       "      <td>119.000000</td>\n",
       "      <td>3.443171e+06</td>\n",
       "      <td>...</td>\n",
       "      <td>75.000000</td>\n",
       "      <td>75.000000</td>\n",
       "      <td>75.000000</td>\n",
       "      <td>75.000000</td>\n",
       "      <td>75.000000</td>\n",
       "      <td>75.000000</td>\n",
       "      <td>75.000000</td>\n",
       "      <td>75.000000</td>\n",
       "      <td>75.000000</td>\n",
       "      <td>10.972600</td>\n",
       "    </tr>\n",
       "  </tbody>\n",
       "</table>\n",
       "<p>8 rows × 54 columns</p>\n",
       "</div>"
      ],
      "text/plain": [
       "                npi  number_of_hcpcs  total_services  total_unique_benes  \\\n",
       "count  9.866770e+05    986677.000000    9.866770e+05        9.866770e+05   \n",
       "mean   1.499657e+09        32.583957    2.685515e+03        3.684959e+02   \n",
       "std    2.880157e+08        35.755980    3.637059e+04        2.878940e+03   \n",
       "min    1.003000e+09         1.000000    1.100000e+01        1.100000e+01   \n",
       "25%    1.245577e+09         9.000000    1.930000e+02        6.600000e+01   \n",
       "50%    1.497966e+09        21.000000    5.590000e+02        1.740000e+02   \n",
       "75%    1.750301e+09        43.000000    1.632000e+03        3.910000e+02   \n",
       "max    1.993000e+09      1095.000000    1.210750e+07        1.350844e+06   \n",
       "\n",
       "       total_submitted_chrg_amt  total_medicare_allowed_amt  \\\n",
       "count              9.866770e+05                9.866770e+05   \n",
       "mean               3.326049e+05                1.200399e+05   \n",
       "std                2.321402e+06                6.110722e+05   \n",
       "min                4.500000e+01                2.700000e+00   \n",
       "25%                2.922000e+04                1.378413e+04   \n",
       "50%                1.092050e+05                4.287645e+04   \n",
       "75%                3.112064e+05                1.163251e+05   \n",
       "max                8.314468e+08                1.701440e+08   \n",
       "\n",
       "       total_medicare_payment_amt  total_medicare_stnd_amt  \\\n",
       "count                9.866770e+05             9.866770e+05   \n",
       "mean                 9.209262e+04             9.144818e+04   \n",
       "std                  5.520058e+05             5.334284e+05   \n",
       "min                  0.000000e+00             0.000000e+00   \n",
       "25%                  1.036583e+04             1.069117e+04   \n",
       "50%                  3.195630e+04             3.203132e+04   \n",
       "75%                  8.724571e+04             8.667023e+04   \n",
       "max                  1.660135e+08             1.634007e+08   \n",
       "\n",
       "       number_of_drug_hcpcs  total_drug_services  \\\n",
       "count         883567.000000         8.835670e+05   \n",
       "mean               2.043133         9.705095e+02   \n",
       "std                5.593653         1.157377e+04   \n",
       "min                0.000000         0.000000e+00   \n",
       "25%                0.000000         0.000000e+00   \n",
       "50%                0.000000         0.000000e+00   \n",
       "75%                2.000000         3.400000e+01   \n",
       "max              119.000000         3.443171e+06   \n",
       "\n",
       "                    ...                beneficiary_cc_depr_percent  \\\n",
       "count               ...                              827752.000000   \n",
       "mean                ...                                  30.514393   \n",
       "std                 ...                                  15.100434   \n",
       "min                 ...                                   0.000000   \n",
       "25%                 ...                                  20.000000   \n",
       "50%                 ...                                  28.000000   \n",
       "75%                 ...                                  37.000000   \n",
       "max                 ...                                  75.000000   \n",
       "\n",
       "       beneficiary_cc_diab_percent  beneficiary_cc_hyperl_percent  \\\n",
       "count                847364.000000                  913013.000000   \n",
       "mean                     36.445008                      57.097108   \n",
       "std                      12.365744                      11.776989   \n",
       "min                       0.000000                       0.000000   \n",
       "25%                      28.000000                      49.000000   \n",
       "50%                      35.000000                      58.000000   \n",
       "75%                      43.000000                      66.000000   \n",
       "max                      75.000000                      75.000000   \n",
       "\n",
       "       beneficiary_cc_hypert_percent  beneficiary_cc_ihd_percent  \\\n",
       "count                  934284.000000               841621.000000   \n",
       "mean                       67.096606                   39.645125   \n",
       "std                        10.043063                   15.120318   \n",
       "min                         0.000000                    0.000000   \n",
       "25%                        61.000000                   28.000000   \n",
       "50%                        72.000000                   37.000000   \n",
       "75%                        75.000000                   50.000000   \n",
       "max                        75.000000                   75.000000   \n",
       "\n",
       "       beneficiary_cc_ost_percent  beneficiary_cc_raoa_percent  \\\n",
       "count               617374.000000                884690.000000   \n",
       "mean                     9.963272                    44.097786   \n",
       "std                      5.529963                    12.954647   \n",
       "min                      0.000000                     0.000000   \n",
       "25%                      7.000000                    35.000000   \n",
       "50%                      9.000000                    42.000000   \n",
       "75%                     12.000000                    51.000000   \n",
       "max                     75.000000                    75.000000   \n",
       "\n",
       "       beneficiary_cc_schiot_percent  beneficiary_cc_strk_percent  \\\n",
       "count                  516824.000000                546038.000000   \n",
       "mean                        9.281045                     8.500361   \n",
       "std                        12.225311                     7.781422   \n",
       "min                         0.000000                     0.000000   \n",
       "25%                         2.000000                     4.000000   \n",
       "50%                         6.000000                     7.000000   \n",
       "75%                        11.000000                    12.000000   \n",
       "max                        75.000000                    75.000000   \n",
       "\n",
       "       Beneficiary_Average_Risk_Score  \n",
       "count                   986677.000000  \n",
       "mean                         1.489883  \n",
       "std                          0.720481  \n",
       "min                          0.271300  \n",
       "25%                          1.005400  \n",
       "50%                          1.294700  \n",
       "75%                          1.796200  \n",
       "max                         10.972600  \n",
       "\n",
       "[8 rows x 54 columns]"
      ]
     },
     "execution_count": 4,
     "metadata": {},
     "output_type": "execute_result"
    }
   ],
   "source": [
    "NPI.describe()"
   ]
  },
  {
   "cell_type": "code",
   "execution_count": 5,
   "metadata": {
    "collapsed": false
   },
   "outputs": [
    {
     "data": {
      "text/plain": [
       "(986677, 70)"
      ]
     },
     "execution_count": 5,
     "metadata": {},
     "output_type": "execute_result"
    }
   ],
   "source": [
    "NPI.shape"
   ]
  },
  {
   "cell_type": "code",
   "execution_count": 6,
   "metadata": {
    "collapsed": true
   },
   "outputs": [],
   "source": [
    "# Make a new dataframe with only nppes_entitiy_code equals 'I'\n",
    "NPI_ind = NPI[(NPI['nppes_entity_code']=='I')]"
   ]
  },
  {
   "cell_type": "code",
   "execution_count": 7,
   "metadata": {
    "collapsed": false
   },
   "outputs": [
    {
     "data": {
      "text/plain": [
       "(925347, 70)"
      ]
     },
     "execution_count": 7,
     "metadata": {},
     "output_type": "execute_result"
    }
   ],
   "source": [
    "NPI_ind.shape"
   ]
  },
  {
   "cell_type": "code",
   "execution_count": 8,
   "metadata": {
    "collapsed": false
   },
   "outputs": [
    {
     "data": {
      "text/html": [
       "<div>\n",
       "<table border=\"1\" class=\"dataframe\">\n",
       "  <thead>\n",
       "    <tr style=\"text-align: right;\">\n",
       "      <th></th>\n",
       "      <th>total_medicare_payment_amt</th>\n",
       "      <th>nppes_provider_first_name</th>\n",
       "      <th>nppes_provider_last_org_name</th>\n",
       "      <th>provider_type</th>\n",
       "    </tr>\n",
       "  </thead>\n",
       "  <tbody>\n",
       "    <tr>\n",
       "      <th>31757</th>\n",
       "      <td>14801646.80</td>\n",
       "      <td>ASAD</td>\n",
       "      <td>QAMAR</td>\n",
       "      <td>Cardiology</td>\n",
       "    </tr>\n",
       "    <tr>\n",
       "      <th>62717</th>\n",
       "      <td>14721432.49</td>\n",
       "      <td>ANNE</td>\n",
       "      <td>GREIST</td>\n",
       "      <td>Hematology/Oncology</td>\n",
       "    </tr>\n",
       "    <tr>\n",
       "      <th>854757</th>\n",
       "      <td>10978357.61</td>\n",
       "      <td>VASSO</td>\n",
       "      <td>GODIALI</td>\n",
       "      <td>Vascular Surgery</td>\n",
       "    </tr>\n",
       "    <tr>\n",
       "      <th>544772</th>\n",
       "      <td>10806673.65</td>\n",
       "      <td>DEREK</td>\n",
       "      <td>KUNIMOTO</td>\n",
       "      <td>Ophthalmology</td>\n",
       "    </tr>\n",
       "    <tr>\n",
       "      <th>908480</th>\n",
       "      <td>10234125.37</td>\n",
       "      <td>ALEXANDER</td>\n",
       "      <td>EATON</td>\n",
       "      <td>Ophthalmology</td>\n",
       "    </tr>\n",
       "  </tbody>\n",
       "</table>\n",
       "</div>"
      ],
      "text/plain": [
       "        total_medicare_payment_amt nppes_provider_first_name  \\\n",
       "31757                  14801646.80                      ASAD   \n",
       "62717                  14721432.49                      ANNE   \n",
       "854757                 10978357.61                     VASSO   \n",
       "544772                 10806673.65                     DEREK   \n",
       "908480                 10234125.37                 ALEXANDER   \n",
       "\n",
       "       nppes_provider_last_org_name        provider_type  \n",
       "31757                         QAMAR           Cardiology  \n",
       "62717                        GREIST  Hematology/Oncology  \n",
       "854757                      GODIALI     Vascular Surgery  \n",
       "544772                     KUNIMOTO        Ophthalmology  \n",
       "908480                        EATON        Ophthalmology  "
      ]
     },
     "execution_count": 8,
     "metadata": {},
     "output_type": "execute_result"
    }
   ],
   "source": [
    "# Task 1(a):\n",
    "# Find out the provider who was paid the highest amount by Medicare\n",
    "task1_table = NPI_ind[['total_medicare_payment_amt', 'nppes_provider_first_name', 'nppes_provider_last_org_name', 'provider_type']]\\\n",
    ".sort_values(['total_medicare_payment_amt'],ascending=[0])\n",
    "task1_table.head()"
   ]
  },
  {
   "cell_type": "markdown",
   "metadata": {},
   "source": [
    "Provider ASAD QAMAR, with specialty in Cardiology was paid the hgiest amount by Medicare in 2014, with 14,801,646.80"
   ]
  },
  {
   "cell_type": "code",
   "execution_count": 9,
   "metadata": {
    "collapsed": false
   },
   "outputs": [
    {
     "data": {
      "text/html": [
       "<div>\n",
       "<table border=\"1\" class=\"dataframe\">\n",
       "  <thead>\n",
       "    <tr style=\"text-align: right;\">\n",
       "      <th></th>\n",
       "      <th>provider_type</th>\n",
       "      <th>count_providers</th>\n",
       "      <th>amt_median</th>\n",
       "    </tr>\n",
       "  </thead>\n",
       "  <tbody>\n",
       "    <tr>\n",
       "      <th>0</th>\n",
       "      <td>Cardiac Electrophysiology</td>\n",
       "      <td>1512.0</td>\n",
       "      <td>188023.145</td>\n",
       "    </tr>\n",
       "    <tr>\n",
       "      <th>1</th>\n",
       "      <td>Ophthalmology</td>\n",
       "      <td>17664.0</td>\n",
       "      <td>185761.335</td>\n",
       "    </tr>\n",
       "    <tr>\n",
       "      <th>2</th>\n",
       "      <td>Nephrology</td>\n",
       "      <td>8036.0</td>\n",
       "      <td>184928.690</td>\n",
       "    </tr>\n",
       "    <tr>\n",
       "      <th>3</th>\n",
       "      <td>Vascular Surgery</td>\n",
       "      <td>2915.0</td>\n",
       "      <td>165972.400</td>\n",
       "    </tr>\n",
       "    <tr>\n",
       "      <th>4</th>\n",
       "      <td>Cardiology</td>\n",
       "      <td>22884.0</td>\n",
       "      <td>161221.905</td>\n",
       "    </tr>\n",
       "  </tbody>\n",
       "</table>\n",
       "</div>"
      ],
      "text/plain": [
       "               provider_type  count_providers  amt_median\n",
       "0  Cardiac Electrophysiology           1512.0  188023.145\n",
       "1              Ophthalmology          17664.0  185761.335\n",
       "2                 Nephrology           8036.0  184928.690\n",
       "3           Vascular Surgery           2915.0  165972.400\n",
       "4                 Cardiology          22884.0  161221.905"
      ]
     },
     "execution_count": 9,
     "metadata": {},
     "output_type": "execute_result"
    }
   ],
   "source": [
    "# Task 1(b):\n",
    "# make an aggregation table with count and median_payment for each provider type\n",
    "median_count_specialties = pd.DataFrame(task1_table.groupby('provider_type')\\\n",
    "                                        .agg({'total_medicare_payment_amt':{\"amt_median\":np.median, \"count_providers\":np.size}}))  \n",
    "median_count_specialties.columns = median_count_specialties.columns.droplevel(0)\n",
    "median_count_specialties = pd.DataFrame(median_count_specialties[(median_count_specialties['count_providers']>=100)]\\\n",
    "                                        .sort_values(['amt_median'],ascending=[0]).to_records())\n",
    "median_count_specialties.head()"
   ]
  },
  {
   "cell_type": "code",
   "execution_count": 10,
   "metadata": {
    "collapsed": false
   },
   "outputs": [
    {
     "data": {
      "text/html": [
       "<div>\n",
       "<table border=\"1\" class=\"dataframe\">\n",
       "  <thead>\n",
       "    <tr style=\"text-align: right;\">\n",
       "      <th></th>\n",
       "      <th>provider_type</th>\n",
       "      <th>count_providers</th>\n",
       "      <th>amt_median</th>\n",
       "    </tr>\n",
       "  </thead>\n",
       "  <tbody>\n",
       "    <tr>\n",
       "      <th>69</th>\n",
       "      <td>Maxillofacial Surgery</td>\n",
       "      <td>1008.0</td>\n",
       "      <td>5718.515</td>\n",
       "    </tr>\n",
       "    <tr>\n",
       "      <th>70</th>\n",
       "      <td>Oral Surgery (dentists only)</td>\n",
       "      <td>1465.0</td>\n",
       "      <td>5580.940</td>\n",
       "    </tr>\n",
       "    <tr>\n",
       "      <th>71</th>\n",
       "      <td>Audiologist (billing independently)</td>\n",
       "      <td>5851.0</td>\n",
       "      <td>4547.800</td>\n",
       "    </tr>\n",
       "    <tr>\n",
       "      <th>72</th>\n",
       "      <td>Registered Dietician/Nutrition Professional</td>\n",
       "      <td>1741.0</td>\n",
       "      <td>4324.710</td>\n",
       "    </tr>\n",
       "    <tr>\n",
       "      <th>73</th>\n",
       "      <td>Certified Nurse Midwife</td>\n",
       "      <td>753.0</td>\n",
       "      <td>1692.910</td>\n",
       "    </tr>\n",
       "  </tbody>\n",
       "</table>\n",
       "</div>"
      ],
      "text/plain": [
       "                                  provider_type  count_providers  amt_median\n",
       "69                        Maxillofacial Surgery           1008.0    5718.515\n",
       "70                 Oral Surgery (dentists only)           1465.0    5580.940\n",
       "71          Audiologist (billing independently)           5851.0    4547.800\n",
       "72  Registered Dietician/Nutrition Professional           1741.0    4324.710\n",
       "73                      Certified Nurse Midwife            753.0    1692.910"
      ]
     },
     "execution_count": 10,
     "metadata": {},
     "output_type": "execute_result"
    }
   ],
   "source": [
    "median_count_specialties.tail()"
   ]
  },
  {
   "cell_type": "code",
   "execution_count": 11,
   "metadata": {
    "collapsed": false
   },
   "outputs": [
    {
     "data": {
      "text/plain": [
       "(array([4]),)"
      ]
     },
     "execution_count": 11,
     "metadata": {},
     "output_type": "execute_result"
    }
   ],
   "source": [
    "#Look at the rank of \"Cardiology\"\n",
    "np.where(median_count_specialties[\"provider_type\"] == 'Cardiology')"
   ]
  },
  {
   "cell_type": "markdown",
   "metadata": {},
   "source": [
    "74 specialties have at least 100 providers\n",
    "Cardiac Electrophysiology has the highest median payment and the amount is 188023.145\n",
    "Certified Nurse Midwife has the lowest median payment and the amount is 1692.910\n",
    "The highest paid provider's specialty 'Cardiology' is ranking 5"
   ]
  },
  {
   "cell_type": "code",
   "execution_count": 12,
   "metadata": {
    "collapsed": false
   },
   "outputs": [
    {
     "data": {
      "text/plain": [
       "85"
      ]
     },
     "execution_count": 12,
     "metadata": {},
     "output_type": "execute_result"
    }
   ],
   "source": [
    "# Task 1(c):\n",
    "# \n",
    "# Look at the number of unique specialties in the NPI dataset\n",
    "t1_unique_provider_type = task1_table.provider_type.unique()  \n",
    "len(t1_unique_provider_type)  "
   ]
  },
  {
   "cell_type": "code",
   "execution_count": 13,
   "metadata": {
    "collapsed": false
   },
   "outputs": [
    {
     "data": {
      "text/plain": [
       "74"
      ]
     },
     "execution_count": 13,
     "metadata": {},
     "output_type": "execute_result"
    }
   ],
   "source": [
    "median_unique = median_count_specialties.provider_type.unique()  \n",
    "len(median_unique)"
   ]
  },
  {
   "cell_type": "code",
   "execution_count": 14,
   "metadata": {
    "collapsed": false
   },
   "outputs": [],
   "source": [
    "# Make a new table called \"task1_over100_table\" which only contains 'provider_type' with >=100 providers\n",
    "task1_over100_table = task1_table[task1_table['provider_type'].\\\n",
    "                                  isin(median_count_specialties['provider_type'])]"
   ]
  },
  {
   "cell_type": "code",
   "execution_count": 15,
   "metadata": {
    "collapsed": false
   },
   "outputs": [
    {
     "data": {
      "text/plain": [
       "(925054, 4)"
      ]
     },
     "execution_count": 15,
     "metadata": {},
     "output_type": "execute_result"
    }
   ],
   "source": [
    "task1_over100_table.shape"
   ]
  },
  {
   "cell_type": "code",
   "execution_count": 16,
   "metadata": {
    "collapsed": true
   },
   "outputs": [],
   "source": [
    "# Only keep the 10 highest paid providers in each specialty\n",
    "task1_over100_top10 = task1_over100_table.groupby('provider_type').head(10).reset_index(drop=True)"
   ]
  },
  {
   "cell_type": "code",
   "execution_count": 17,
   "metadata": {
    "collapsed": false
   },
   "outputs": [
    {
     "data": {
      "text/html": [
       "<div>\n",
       "<table border=\"1\" class=\"dataframe\">\n",
       "  <thead>\n",
       "    <tr style=\"text-align: right;\">\n",
       "      <th></th>\n",
       "      <th>total_medicare_payment_amt</th>\n",
       "      <th>nppes_provider_first_name</th>\n",
       "      <th>nppes_provider_last_org_name</th>\n",
       "      <th>provider_type</th>\n",
       "    </tr>\n",
       "  </thead>\n",
       "  <tbody>\n",
       "    <tr>\n",
       "      <th>0</th>\n",
       "      <td>14801646.80</td>\n",
       "      <td>ASAD</td>\n",
       "      <td>QAMAR</td>\n",
       "      <td>Cardiology</td>\n",
       "    </tr>\n",
       "    <tr>\n",
       "      <th>1</th>\n",
       "      <td>14721432.49</td>\n",
       "      <td>ANNE</td>\n",
       "      <td>GREIST</td>\n",
       "      <td>Hematology/Oncology</td>\n",
       "    </tr>\n",
       "    <tr>\n",
       "      <th>2</th>\n",
       "      <td>10978357.61</td>\n",
       "      <td>VASSO</td>\n",
       "      <td>GODIALI</td>\n",
       "      <td>Vascular Surgery</td>\n",
       "    </tr>\n",
       "    <tr>\n",
       "      <th>3</th>\n",
       "      <td>10806673.65</td>\n",
       "      <td>DEREK</td>\n",
       "      <td>KUNIMOTO</td>\n",
       "      <td>Ophthalmology</td>\n",
       "    </tr>\n",
       "    <tr>\n",
       "      <th>4</th>\n",
       "      <td>10234125.37</td>\n",
       "      <td>ALEXANDER</td>\n",
       "      <td>EATON</td>\n",
       "      <td>Ophthalmology</td>\n",
       "    </tr>\n",
       "  </tbody>\n",
       "</table>\n",
       "</div>"
      ],
      "text/plain": [
       "   total_medicare_payment_amt nppes_provider_first_name  \\\n",
       "0                 14801646.80                      ASAD   \n",
       "1                 14721432.49                      ANNE   \n",
       "2                 10978357.61                     VASSO   \n",
       "3                 10806673.65                     DEREK   \n",
       "4                 10234125.37                 ALEXANDER   \n",
       "\n",
       "  nppes_provider_last_org_name        provider_type  \n",
       "0                        QAMAR           Cardiology  \n",
       "1                       GREIST  Hematology/Oncology  \n",
       "2                      GODIALI     Vascular Surgery  \n",
       "3                     KUNIMOTO        Ophthalmology  \n",
       "4                        EATON        Ophthalmology  "
      ]
     },
     "execution_count": 17,
     "metadata": {},
     "output_type": "execute_result"
    }
   ],
   "source": [
    "task1_over100_top10.head()"
   ]
  },
  {
   "cell_type": "code",
   "execution_count": 18,
   "metadata": {
    "collapsed": false
   },
   "outputs": [
    {
     "data": {
      "text/html": [
       "<div>\n",
       "<table border=\"1\" class=\"dataframe\">\n",
       "  <thead>\n",
       "    <tr style=\"text-align: right;\">\n",
       "      <th></th>\n",
       "      <th>provider_type</th>\n",
       "      <th>count_providers</th>\n",
       "      <th>amt_median</th>\n",
       "    </tr>\n",
       "  </thead>\n",
       "  <tbody>\n",
       "    <tr>\n",
       "      <th>0</th>\n",
       "      <td>Ophthalmology</td>\n",
       "      <td>10.0</td>\n",
       "      <td>7531933.360</td>\n",
       "    </tr>\n",
       "    <tr>\n",
       "      <th>1</th>\n",
       "      <td>Hematology/Oncology</td>\n",
       "      <td>10.0</td>\n",
       "      <td>7222146.850</td>\n",
       "    </tr>\n",
       "    <tr>\n",
       "      <th>2</th>\n",
       "      <td>Medical Oncology</td>\n",
       "      <td>10.0</td>\n",
       "      <td>4945725.705</td>\n",
       "    </tr>\n",
       "    <tr>\n",
       "      <th>3</th>\n",
       "      <td>Radiation Oncology</td>\n",
       "      <td>10.0</td>\n",
       "      <td>4421019.590</td>\n",
       "    </tr>\n",
       "    <tr>\n",
       "      <th>4</th>\n",
       "      <td>Rheumatology</td>\n",
       "      <td>10.0</td>\n",
       "      <td>4416689.330</td>\n",
       "    </tr>\n",
       "    <tr>\n",
       "      <th>5</th>\n",
       "      <td>Cardiology</td>\n",
       "      <td>10.0</td>\n",
       "      <td>4279912.970</td>\n",
       "    </tr>\n",
       "    <tr>\n",
       "      <th>6</th>\n",
       "      <td>Vascular Surgery</td>\n",
       "      <td>10.0</td>\n",
       "      <td>3436768.035</td>\n",
       "    </tr>\n",
       "    <tr>\n",
       "      <th>7</th>\n",
       "      <td>Pathology</td>\n",
       "      <td>10.0</td>\n",
       "      <td>3415477.020</td>\n",
       "    </tr>\n",
       "    <tr>\n",
       "      <th>8</th>\n",
       "      <td>Internal Medicine</td>\n",
       "      <td>10.0</td>\n",
       "      <td>3351461.960</td>\n",
       "    </tr>\n",
       "    <tr>\n",
       "      <th>9</th>\n",
       "      <td>Interventional Radiology</td>\n",
       "      <td>10.0</td>\n",
       "      <td>3202738.175</td>\n",
       "    </tr>\n",
       "  </tbody>\n",
       "</table>\n",
       "</div>"
      ],
      "text/plain": [
       "              provider_type  count_providers   amt_median\n",
       "0             Ophthalmology             10.0  7531933.360\n",
       "1       Hematology/Oncology             10.0  7222146.850\n",
       "2          Medical Oncology             10.0  4945725.705\n",
       "3        Radiation Oncology             10.0  4421019.590\n",
       "4              Rheumatology             10.0  4416689.330\n",
       "5                Cardiology             10.0  4279912.970\n",
       "6          Vascular Surgery             10.0  3436768.035\n",
       "7                 Pathology             10.0  3415477.020\n",
       "8         Internal Medicine             10.0  3351461.960\n",
       "9  Interventional Radiology             10.0  3202738.175"
      ]
     },
     "execution_count": 18,
     "metadata": {},
     "output_type": "execute_result"
    }
   ],
   "source": [
    "median_count_2 = pd.DataFrame(task1_over100_top10.groupby('provider_type')\\\n",
    "                                        .agg({'total_medicare_payment_amt':{\"amt_median\":np.median, \"count_providers\":np.size}}))  \n",
    "\n",
    "median_count_2.columns = median_count_2.columns.droplevel(0)\n",
    "\n",
    "median_count_2 = pd.DataFrame(median_count_2.sort_values(['amt_median'],ascending=[0]).to_records())\n",
    "median_count_2.head(10)"
   ]
  },
  {
   "cell_type": "code",
   "execution_count": 19,
   "metadata": {
    "collapsed": false
   },
   "outputs": [
    {
     "data": {
      "text/html": [
       "<div>\n",
       "<table border=\"1\" class=\"dataframe\">\n",
       "  <thead>\n",
       "    <tr style=\"text-align: right;\">\n",
       "      <th></th>\n",
       "      <th>provider_type</th>\n",
       "      <th>count_providers</th>\n",
       "      <th>amt_median</th>\n",
       "    </tr>\n",
       "  </thead>\n",
       "  <tbody>\n",
       "    <tr>\n",
       "      <th>69</th>\n",
       "      <td>Maxillofacial Surgery</td>\n",
       "      <td>10.0</td>\n",
       "      <td>147538.400</td>\n",
       "    </tr>\n",
       "    <tr>\n",
       "      <th>70</th>\n",
       "      <td>Audiologist (billing independently)</td>\n",
       "      <td>10.0</td>\n",
       "      <td>136383.315</td>\n",
       "    </tr>\n",
       "    <tr>\n",
       "      <th>71</th>\n",
       "      <td>Registered Dietician/Nutrition Professional</td>\n",
       "      <td>10.0</td>\n",
       "      <td>120012.190</td>\n",
       "    </tr>\n",
       "    <tr>\n",
       "      <th>72</th>\n",
       "      <td>Anesthesiologist Assistants</td>\n",
       "      <td>10.0</td>\n",
       "      <td>53349.100</td>\n",
       "    </tr>\n",
       "    <tr>\n",
       "      <th>73</th>\n",
       "      <td>Certified Nurse Midwife</td>\n",
       "      <td>10.0</td>\n",
       "      <td>24631.045</td>\n",
       "    </tr>\n",
       "  </tbody>\n",
       "</table>\n",
       "</div>"
      ],
      "text/plain": [
       "                                  provider_type  count_providers  amt_median\n",
       "69                        Maxillofacial Surgery             10.0  147538.400\n",
       "70          Audiologist (billing independently)             10.0  136383.315\n",
       "71  Registered Dietician/Nutrition Professional             10.0  120012.190\n",
       "72                  Anesthesiologist Assistants             10.0   53349.100\n",
       "73                      Certified Nurse Midwife             10.0   24631.045"
      ]
     },
     "execution_count": 19,
     "metadata": {},
     "output_type": "execute_result"
    }
   ],
   "source": [
    "median_count_2.tail()"
   ]
  },
  {
   "cell_type": "code",
   "execution_count": 20,
   "metadata": {
    "collapsed": false
   },
   "outputs": [
    {
     "data": {
      "text/plain": [
       "(array([5]),)"
      ]
     },
     "execution_count": 20,
     "metadata": {},
     "output_type": "execute_result"
    }
   ],
   "source": [
    "#Look at the rank of \"Cardiology\" in the 10 highest providers per provider_type\n",
    "np.where(median_count_2[\"provider_type\"] == 'Cardiology')"
   ]
  },
  {
   "cell_type": "markdown",
   "metadata": {},
   "source": [
    "Ophthalmology has the highest median payment among its 10 highest paid provider with 7531933.360\n",
    "    Certified Nurse Midwife has the lowest median payment among its 10 highest paid provider with 24631.045\n",
    "    The highest paid provider's specialty 'Cardiology' is ranking 6"
   ]
  }
 ],
 "metadata": {
  "kernelspec": {
   "display_name": "Python [conda root]",
   "language": "python",
   "name": "conda-root-py"
  },
  "language_info": {
   "codemirror_mode": {
    "name": "ipython",
    "version": 2
   },
   "file_extension": ".py",
   "mimetype": "text/x-python",
   "name": "python",
   "nbconvert_exporter": "python",
   "pygments_lexer": "ipython2",
   "version": "2.7.13"
  }
 },
 "nbformat": 4,
 "nbformat_minor": 2
}
