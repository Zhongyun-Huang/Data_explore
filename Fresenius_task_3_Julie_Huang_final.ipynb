{
 "cells": [
  {
   "cell_type": "markdown",
   "metadata": {},
   "source": [
    "# Task 3"
   ]
  },
  {
   "cell_type": "code",
   "execution_count": 1,
   "metadata": {
    "collapsed": false
   },
   "outputs": [
    {
     "name": "stderr",
     "output_type": "stream",
     "text": [
      "/Users/zybell/anaconda2/lib/python2.7/site-packages/sklearn/cross_validation.py:44: DeprecationWarning: This module was deprecated in version 0.18 in favor of the model_selection module into which all the refactored classes and functions are moved. Also note that the interface of the new CV iterators are different from that of this module. This module will be removed in 0.20.\n",
      "  \"This module will be removed in 0.20.\", DeprecationWarning)\n"
     ]
    }
   ],
   "source": [
    "import numpy as np\n",
    "import scipy as sp\n",
    "import pandas as pd\n",
    "\n",
    "import statsmodels.api as sm\n",
    "import matplotlib.pyplot as plt\n",
    "import seaborn as sns\n",
    "%matplotlib inline\n",
    "\n",
    "from sklearn import metrics\n",
    "from sklearn import svm\n",
    "from sklearn.linear_model import LogisticRegression\n",
    "from sklearn.cross_validation import train_test_split\n",
    "from sklearn.cross_validation import cross_val_score\n",
    "from sklearn.neighbors import KNeighborsClassifier\n",
    "from sklearn.ensemble import RandomForestClassifier, AdaBoostClassifier\n",
    "\n",
    "from sklearn.model_selection import GridSearchCV\n",
    "from sklearn.model_selection import RandomizedSearchCV"
   ]
  },
  {
   "cell_type": "code",
   "execution_count": 2,
   "metadata": {
    "collapsed": false
   },
   "outputs": [
    {
     "name": "stderr",
     "output_type": "stream",
     "text": [
      "/Users/zybell/anaconda2/lib/python2.7/site-packages/IPython/core/interactiveshell.py:2717: DtypeWarning: Columns (10) have mixed types. Specify dtype option on import or set low_memory=False.\n",
      "  interactivity=interactivity, compiler=compiler, result=result)\n"
     ]
    }
   ],
   "source": [
    "NPI = pd.read_table('Medicare_Physician_and_Other_Supplier_NPI_Aggregate_CY2014.txt')"
   ]
  },
  {
   "cell_type": "code",
   "execution_count": 3,
   "metadata": {
    "collapsed": true
   },
   "outputs": [],
   "source": [
    "# Make a new dataframe with only nppes_entitiy_code equals 'I'\n",
    "NPI_ind = NPI[(NPI['nppes_entity_code']=='I')]"
   ]
  },
  {
   "cell_type": "code",
   "execution_count": 4,
   "metadata": {
    "collapsed": false
   },
   "outputs": [
    {
     "data": {
      "text/plain": [
       "Internal Medicine                          97477\n",
       "Family Practice                            82256\n",
       "Nurse Practitioner                         73815\n",
       "Physician Assistant                        54657\n",
       "Physical Therapist                         41290\n",
       "Emergency Medicine                         40433\n",
       "CRNA                                       39100\n",
       "Anesthesiology                             36947\n",
       "Chiropractic                               36533\n",
       "Diagnostic Radiology                       29384\n",
       "Optometry                                  28468\n",
       "Obstetrics/Gynecology                      27647\n",
       "Cardiology                                 22884\n",
       "Psychiatry                                 22609\n",
       "Orthopedic Surgery                         21301\n",
       "General Surgery                            19905\n",
       "Ophthalmology                              17664\n",
       "Licensed Clinical Social Worker            16497\n",
       "Podiatry                                   14949\n",
       "Clinical Psychologist                      14650\n",
       "Neurology                                  13360\n",
       "Gastroenterology                           12750\n",
       "Pathology                                  11585\n",
       "Dermatology                                11078\n",
       "Pulmonary Disease                           9350\n",
       "Urology                                     8981\n",
       "Otolaryngology                              8772\n",
       "Nephrology                                  8036\n",
       "Hematology/Oncology                         7822\n",
       "Physical Medicine and Rehabilitation        7528\n",
       "                                           ...  \n",
       "Hand Surgery                                1264\n",
       "Interventional Radiology                    1245\n",
       "Maxillofacial Surgery                       1008\n",
       "Gynecological/Oncology                       932\n",
       "Surgical Oncology                            809\n",
       "Certified Nurse Midwife                      753\n",
       "Hematology                                   725\n",
       "Sports Medicine                              641\n",
       "Osteopathic Manipulative Medicine            612\n",
       "Hospice and Palliative Care                  581\n",
       "Speech Language Pathologist                  548\n",
       "Nuclear Medicine                             546\n",
       "Preventive Medicine                          339\n",
       "Psychologist (billing independently)         255\n",
       "Sleep Medicine                               192\n",
       "Geriatric Psychiatry                         174\n",
       "Addiction Medicine                           125\n",
       "Unknown Physician Specialty Code             112\n",
       "Neuropsychiatry                              107\n",
       "Peripheral Vascular Disease                   68\n",
       "Multispecialty Clinic/Group Practice          65\n",
       "Clinical Laboratory                           62\n",
       "Mass Immunization Roster Biller               31\n",
       "Unknown Supplier/Provider                     24\n",
       "Ambulance Service Supplier                    21\n",
       "Independent Diagnostic Testing Facility       12\n",
       "Portable X-ray                                 6\n",
       "All Other Suppliers                            2\n",
       "Interventional Cardiology                      1\n",
       "Slide Preparation Facility                     1\n",
       "Name: provider_type, dtype: int64"
      ]
     },
     "execution_count": 4,
     "metadata": {},
     "output_type": "execute_result"
    }
   ],
   "source": [
    "NPI_ind['provider_type'].value_counts()"
   ]
  },
  {
   "cell_type": "code",
   "execution_count": 5,
   "metadata": {
    "collapsed": false
   },
   "outputs": [
    {
     "name": "stderr",
     "output_type": "stream",
     "text": [
      "/Users/zybell/anaconda2/lib/python2.7/site-packages/ipykernel/__main__.py:8: SettingWithCopyWarning: \n",
      "A value is trying to be set on a copy of a slice from a DataFrame.\n",
      "Try using .loc[row_indexer,col_indexer] = value instead\n",
      "\n",
      "See the caveats in the documentation: http://pandas.pydata.org/pandas-docs/stable/indexing.html#indexing-view-versus-copy\n"
     ]
    }
   ],
   "source": [
    "# Add a new column called \"pcp\" with 1 or 0\n",
    "def pcp(df):\n",
    "  if df['provider_type'] in [\"Internal Medicine\",\"Family Practice\"]:\n",
    "    return 1\n",
    "  else:\n",
    "    return 0\n",
    "\n",
    "NPI_ind['pcp'] = NPI_ind.apply(pcp, axis=1)"
   ]
  },
  {
   "cell_type": "code",
   "execution_count": 6,
   "metadata": {
    "collapsed": false
   },
   "outputs": [
    {
     "data": {
      "text/plain": [
       "0    745614\n",
       "1    179733\n",
       "Name: pcp, dtype: int64"
      ]
     },
     "execution_count": 6,
     "metadata": {},
     "output_type": "execute_result"
    }
   ],
   "source": [
    "# Check if the 1 and 0 classes are balanced\n",
    "NPI_ind['pcp'].value_counts()"
   ]
  },
  {
   "cell_type": "code",
   "execution_count": 7,
   "metadata": {
    "collapsed": false
   },
   "outputs": [
    {
     "data": {
      "text/plain": [
       "(925347, 71)"
      ]
     },
     "execution_count": 7,
     "metadata": {},
     "output_type": "execute_result"
    }
   ],
   "source": [
    "NPI_ind.shape"
   ]
  },
  {
   "cell_type": "code",
   "execution_count": 8,
   "metadata": {
    "collapsed": true
   },
   "outputs": [],
   "source": [
    "# Deal with missing data, eg NaN of infinite values\n",
    "# Drop rows where all cells in that row is NA\n",
    "NPI_cleaned = NPI_ind.dropna(how='all')\n",
    "# Drop rows that contain less than 60 observations out of 71\n",
    "NPI_cleaned = NPI_cleaned.dropna(thresh=60)"
   ]
  },
  {
   "cell_type": "code",
   "execution_count": 9,
   "metadata": {
    "collapsed": false
   },
   "outputs": [
    {
     "data": {
      "text/plain": [
       "(460380, 71)"
      ]
     },
     "execution_count": 9,
     "metadata": {},
     "output_type": "execute_result"
    }
   ],
   "source": [
    "NPI_cleaned.shape"
   ]
  },
  {
   "cell_type": "code",
   "execution_count": 10,
   "metadata": {
    "collapsed": false
   },
   "outputs": [],
   "source": [
    "# Now drop columns \n",
    "# Drop columns that contains more than around 10000 of missing values\n",
    "NPI_cleaned = NPI_cleaned.dropna(axis=1, thresh=450000)"
   ]
  },
  {
   "cell_type": "code",
   "execution_count": 11,
   "metadata": {
    "collapsed": false
   },
   "outputs": [
    {
     "data": {
      "text/plain": [
       "(460380, 50)"
      ]
     },
     "execution_count": 11,
     "metadata": {},
     "output_type": "execute_result"
    }
   ],
   "source": [
    "NPI_cleaned.shape"
   ]
  },
  {
   "cell_type": "code",
   "execution_count": 12,
   "metadata": {
    "collapsed": false
   },
   "outputs": [
    {
     "data": {
      "text/plain": [
       "count       460380\n",
       "unique        8850\n",
       "top       NEW YORK\n",
       "freq          5924\n",
       "Name: nppes_provider_city, dtype: object"
      ]
     },
     "execution_count": 12,
     "metadata": {},
     "output_type": "execute_result"
    }
   ],
   "source": [
    "NPI_cleaned['nppes_provider_city'].describe()\n",
    "# Too many unique cities, 8850 in the list, need to drop 'nppes_provider_city'"
   ]
  },
  {
   "cell_type": "code",
   "execution_count": 13,
   "metadata": {
    "collapsed": false
   },
   "outputs": [
    {
     "data": {
      "text/plain": [
       "count     460380\n",
       "unique        59\n",
       "top           CA\n",
       "freq       36171\n",
       "Name: nppes_provider_state, dtype: object"
      ]
     },
     "execution_count": 13,
     "metadata": {},
     "output_type": "execute_result"
    }
   ],
   "source": [
    "NPI_cleaned['nppes_provider_state'].describe()\n",
    "# Only 59 unique states, worth making dummy variables,keep"
   ]
  },
  {
   "cell_type": "code",
   "execution_count": 14,
   "metadata": {
    "collapsed": false
   },
   "outputs": [
    {
     "data": {
      "text/plain": [
       "count     460380\n",
       "unique        17\n",
       "top           US\n",
       "freq      460345\n",
       "Name: nppes_provider_country, dtype: object"
      ]
     },
     "execution_count": 14,
     "metadata": {},
     "output_type": "execute_result"
    }
   ],
   "source": [
    "NPI_cleaned ['nppes_provider_country'].describe()\n",
    "# Only 24 unique countries, but mostly in US, not worth keeping the variable in the prediction model\n",
    "#drop 'nppes_provider_country'"
   ]
  },
  {
   "cell_type": "code",
   "execution_count": 15,
   "metadata": {
    "collapsed": false
   },
   "outputs": [
    {
     "data": {
      "text/plain": [
       "count     460380\n",
       "unique         2\n",
       "top            Y\n",
       "freq      460378\n",
       "Name: medicare_participation_indicator, dtype: object"
      ]
     },
     "execution_count": 15,
     "metadata": {},
     "output_type": "execute_result"
    }
   ],
   "source": [
    "NPI_cleaned['medicare_participation_indicator'].describe()"
   ]
  },
  {
   "cell_type": "code",
   "execution_count": 16,
   "metadata": {
    "collapsed": false
   },
   "outputs": [],
   "source": [
    "NPI_cleaned = NPI_cleaned.drop(['nppes_provider_city', 'nppes_provider_country'], axis=1) "
   ]
  },
  {
   "cell_type": "code",
   "execution_count": 17,
   "metadata": {
    "collapsed": false
   },
   "outputs": [
    {
     "data": {
      "text/plain": [
       "0    348341\n",
       "1    112039\n",
       "Name: pcp, dtype: int64"
      ]
     },
     "execution_count": 17,
     "metadata": {},
     "output_type": "execute_result"
    }
   ],
   "source": [
    "NPI_cleaned['pcp'].value_counts()"
   ]
  },
  {
   "cell_type": "code",
   "execution_count": 18,
   "metadata": {
    "collapsed": false
   },
   "outputs": [],
   "source": [
    "# Drop uninformative columns that won't help with prediction\n",
    "NPI_ind_model = NPI_cleaned.drop(['npi', 'nppes_provider_last_org_name',\\\n",
    "                                  'nppes_provider_first_name',\\\n",
    "                                  'nppes_entity_code',\\\n",
    "                                  'nppes_provider_street1',\\\n",
    "                                  'nppes_provider_zip'], axis=1)"
   ]
  },
  {
   "cell_type": "code",
   "execution_count": 19,
   "metadata": {
    "collapsed": true
   },
   "outputs": [],
   "source": [
    "NPI_ind_model_d = NPI_ind_model.dropna()"
   ]
  },
  {
   "cell_type": "code",
   "execution_count": 20,
   "metadata": {
    "collapsed": false
   },
   "outputs": [
    {
     "data": {
      "text/plain": [
       "nppes_provider_gender               444684\n",
       "nppes_provider_state                444684\n",
       "provider_type                       444684\n",
       "medicare_participation_indicator    444684\n",
       "number_of_hcpcs                     444684\n",
       "total_services                      444684\n",
       "total_unique_benes                  444684\n",
       "total_submitted_chrg_amt            444684\n",
       "total_medicare_allowed_amt          444684\n",
       "total_medicare_payment_amt          444684\n",
       "total_medicare_stnd_amt             444684\n",
       "number_of_drug_hcpcs                444684\n",
       "total_drug_services                 444684\n",
       "total_drug_unique_benes             444684\n",
       "total_drug_submitted_chrg_amt       444684\n",
       "total_drug_medicare_allowed_amt     444684\n",
       "total_drug_medicare_payment_amt     444684\n",
       "total_drug_medicare_stnd_amt        444684\n",
       "number_of_med_hcpcs                 444684\n",
       "total_med_services                  444684\n",
       "total_med_unique_benes              444684\n",
       "total_med_submitted_chrg_amt        444684\n",
       "total_med_medicare_allowed_amt      444684\n",
       "total_med_medicare_payment_amt      444684\n",
       "total_med_medicare_stnd_amt         444684\n",
       "beneficiary_average_age             444684\n",
       "beneficiary_age_65_74_count         444684\n",
       "beneficiary_female_count            444684\n",
       "beneficiary_male_count              444684\n",
       "beneficiary_nondual_count           444684\n",
       "beneficiary_dual_count              444684\n",
       "beneficiary_cc_chf_percent          444684\n",
       "beneficiary_cc_ckd_percent          444684\n",
       "beneficiary_cc_copd_percent         444684\n",
       "beneficiary_cc_depr_percent         444684\n",
       "beneficiary_cc_diab_percent         444684\n",
       "beneficiary_cc_hyperl_percent       444684\n",
       "beneficiary_cc_hypert_percent       444684\n",
       "beneficiary_cc_ihd_percent          444684\n",
       "beneficiary_cc_raoa_percent         444684\n",
       "Beneficiary_Average_Risk_Score      444684\n",
       "pcp                                 444684\n",
       "dtype: int64"
      ]
     },
     "execution_count": 20,
     "metadata": {},
     "output_type": "execute_result"
    }
   ],
   "source": [
    "NPI_ind_model_d.count()"
   ]
  },
  {
   "cell_type": "code",
   "execution_count": 21,
   "metadata": {
    "collapsed": false
   },
   "outputs": [
    {
     "data": {
      "text/html": [
       "<div>\n",
       "<table border=\"1\" class=\"dataframe\">\n",
       "  <thead>\n",
       "    <tr style=\"text-align: right;\">\n",
       "      <th></th>\n",
       "      <th>nppes_provider_gender</th>\n",
       "      <th>nppes_provider_state</th>\n",
       "      <th>provider_type</th>\n",
       "      <th>medicare_participation_indicator</th>\n",
       "      <th>number_of_hcpcs</th>\n",
       "      <th>total_services</th>\n",
       "      <th>total_unique_benes</th>\n",
       "      <th>total_submitted_chrg_amt</th>\n",
       "      <th>total_medicare_allowed_amt</th>\n",
       "      <th>total_medicare_payment_amt</th>\n",
       "      <th>...</th>\n",
       "      <th>beneficiary_cc_ckd_percent</th>\n",
       "      <th>beneficiary_cc_copd_percent</th>\n",
       "      <th>beneficiary_cc_depr_percent</th>\n",
       "      <th>beneficiary_cc_diab_percent</th>\n",
       "      <th>beneficiary_cc_hyperl_percent</th>\n",
       "      <th>beneficiary_cc_hypert_percent</th>\n",
       "      <th>beneficiary_cc_ihd_percent</th>\n",
       "      <th>beneficiary_cc_raoa_percent</th>\n",
       "      <th>Beneficiary_Average_Risk_Score</th>\n",
       "      <th>pcp</th>\n",
       "    </tr>\n",
       "  </thead>\n",
       "  <tbody>\n",
       "    <tr>\n",
       "      <th>0</th>\n",
       "      <td>M</td>\n",
       "      <td>MD</td>\n",
       "      <td>Internal Medicine</td>\n",
       "      <td>Y</td>\n",
       "      <td>16</td>\n",
       "      <td>2749.0</td>\n",
       "      <td>913</td>\n",
       "      <td>750652.00</td>\n",
       "      <td>254849.52</td>\n",
       "      <td>194073.09</td>\n",
       "      <td>...</td>\n",
       "      <td>56.0</td>\n",
       "      <td>43.0</td>\n",
       "      <td>46.0</td>\n",
       "      <td>52.0</td>\n",
       "      <td>70.0</td>\n",
       "      <td>75.0</td>\n",
       "      <td>68.0</td>\n",
       "      <td>53.0</td>\n",
       "      <td>2.2206</td>\n",
       "      <td>1</td>\n",
       "    </tr>\n",
       "    <tr>\n",
       "      <th>1</th>\n",
       "      <td>M</td>\n",
       "      <td>IL</td>\n",
       "      <td>Pathology</td>\n",
       "      <td>Y</td>\n",
       "      <td>13</td>\n",
       "      <td>8643.0</td>\n",
       "      <td>4276</td>\n",
       "      <td>1357139.00</td>\n",
       "      <td>321641.88</td>\n",
       "      <td>245364.34</td>\n",
       "      <td>...</td>\n",
       "      <td>14.0</td>\n",
       "      <td>7.0</td>\n",
       "      <td>12.0</td>\n",
       "      <td>20.0</td>\n",
       "      <td>53.0</td>\n",
       "      <td>57.0</td>\n",
       "      <td>28.0</td>\n",
       "      <td>37.0</td>\n",
       "      <td>1.0007</td>\n",
       "      <td>0</td>\n",
       "    </tr>\n",
       "    <tr>\n",
       "      <th>3</th>\n",
       "      <td>M</td>\n",
       "      <td>PA</td>\n",
       "      <td>Family Practice</td>\n",
       "      <td>Y</td>\n",
       "      <td>39</td>\n",
       "      <td>1012.0</td>\n",
       "      <td>392</td>\n",
       "      <td>169486.00</td>\n",
       "      <td>110286.91</td>\n",
       "      <td>85665.04</td>\n",
       "      <td>...</td>\n",
       "      <td>43.0</td>\n",
       "      <td>38.0</td>\n",
       "      <td>47.0</td>\n",
       "      <td>40.0</td>\n",
       "      <td>59.0</td>\n",
       "      <td>75.0</td>\n",
       "      <td>62.0</td>\n",
       "      <td>45.0</td>\n",
       "      <td>1.7228</td>\n",
       "      <td>1</td>\n",
       "    </tr>\n",
       "    <tr>\n",
       "      <th>5</th>\n",
       "      <td>M</td>\n",
       "      <td>CO</td>\n",
       "      <td>General Surgery</td>\n",
       "      <td>Y</td>\n",
       "      <td>62</td>\n",
       "      <td>238.0</td>\n",
       "      <td>153</td>\n",
       "      <td>317428.25</td>\n",
       "      <td>61302.67</td>\n",
       "      <td>47097.18</td>\n",
       "      <td>...</td>\n",
       "      <td>44.0</td>\n",
       "      <td>12.0</td>\n",
       "      <td>39.0</td>\n",
       "      <td>36.0</td>\n",
       "      <td>37.0</td>\n",
       "      <td>69.0</td>\n",
       "      <td>27.0</td>\n",
       "      <td>39.0</td>\n",
       "      <td>2.1111</td>\n",
       "      <td>0</td>\n",
       "    </tr>\n",
       "    <tr>\n",
       "      <th>7</th>\n",
       "      <td>F</td>\n",
       "      <td>PA</td>\n",
       "      <td>Internal Medicine</td>\n",
       "      <td>Y</td>\n",
       "      <td>32</td>\n",
       "      <td>848.0</td>\n",
       "      <td>302</td>\n",
       "      <td>90588.00</td>\n",
       "      <td>60650.83</td>\n",
       "      <td>41392.10</td>\n",
       "      <td>...</td>\n",
       "      <td>17.0</td>\n",
       "      <td>12.0</td>\n",
       "      <td>21.0</td>\n",
       "      <td>22.0</td>\n",
       "      <td>60.0</td>\n",
       "      <td>65.0</td>\n",
       "      <td>26.0</td>\n",
       "      <td>27.0</td>\n",
       "      <td>0.9057</td>\n",
       "      <td>1</td>\n",
       "    </tr>\n",
       "  </tbody>\n",
       "</table>\n",
       "<p>5 rows × 42 columns</p>\n",
       "</div>"
      ],
      "text/plain": [
       "  nppes_provider_gender nppes_provider_state      provider_type  \\\n",
       "0                     M                   MD  Internal Medicine   \n",
       "1                     M                   IL          Pathology   \n",
       "3                     M                   PA    Family Practice   \n",
       "5                     M                   CO    General Surgery   \n",
       "7                     F                   PA  Internal Medicine   \n",
       "\n",
       "  medicare_participation_indicator  number_of_hcpcs  total_services  \\\n",
       "0                                Y               16          2749.0   \n",
       "1                                Y               13          8643.0   \n",
       "3                                Y               39          1012.0   \n",
       "5                                Y               62           238.0   \n",
       "7                                Y               32           848.0   \n",
       "\n",
       "   total_unique_benes  total_submitted_chrg_amt  total_medicare_allowed_amt  \\\n",
       "0                 913                 750652.00                   254849.52   \n",
       "1                4276                1357139.00                   321641.88   \n",
       "3                 392                 169486.00                   110286.91   \n",
       "5                 153                 317428.25                    61302.67   \n",
       "7                 302                  90588.00                    60650.83   \n",
       "\n",
       "   total_medicare_payment_amt ...   beneficiary_cc_ckd_percent  \\\n",
       "0                   194073.09 ...                         56.0   \n",
       "1                   245364.34 ...                         14.0   \n",
       "3                    85665.04 ...                         43.0   \n",
       "5                    47097.18 ...                         44.0   \n",
       "7                    41392.10 ...                         17.0   \n",
       "\n",
       "   beneficiary_cc_copd_percent  beneficiary_cc_depr_percent  \\\n",
       "0                         43.0                         46.0   \n",
       "1                          7.0                         12.0   \n",
       "3                         38.0                         47.0   \n",
       "5                         12.0                         39.0   \n",
       "7                         12.0                         21.0   \n",
       "\n",
       "   beneficiary_cc_diab_percent  beneficiary_cc_hyperl_percent  \\\n",
       "0                         52.0                           70.0   \n",
       "1                         20.0                           53.0   \n",
       "3                         40.0                           59.0   \n",
       "5                         36.0                           37.0   \n",
       "7                         22.0                           60.0   \n",
       "\n",
       "   beneficiary_cc_hypert_percent  beneficiary_cc_ihd_percent  \\\n",
       "0                           75.0                        68.0   \n",
       "1                           57.0                        28.0   \n",
       "3                           75.0                        62.0   \n",
       "5                           69.0                        27.0   \n",
       "7                           65.0                        26.0   \n",
       "\n",
       "   beneficiary_cc_raoa_percent  Beneficiary_Average_Risk_Score  pcp  \n",
       "0                         53.0                          2.2206    1  \n",
       "1                         37.0                          1.0007    0  \n",
       "3                         45.0                          1.7228    1  \n",
       "5                         39.0                          2.1111    0  \n",
       "7                         27.0                          0.9057    1  \n",
       "\n",
       "[5 rows x 42 columns]"
      ]
     },
     "execution_count": 21,
     "metadata": {},
     "output_type": "execute_result"
    }
   ],
   "source": [
    "NPI_ind_model_d.head()"
   ]
  },
  {
   "cell_type": "code",
   "execution_count": 22,
   "metadata": {
    "collapsed": false
   },
   "outputs": [],
   "source": [
    "y = NPI_ind_model_d['pcp']"
   ]
  },
  {
   "cell_type": "code",
   "execution_count": 23,
   "metadata": {
    "collapsed": false
   },
   "outputs": [],
   "source": [
    "NPI_ind_model_d_X = NPI_ind_model_d.drop(['provider_type'], axis=1)"
   ]
  },
  {
   "cell_type": "code",
   "execution_count": 24,
   "metadata": {
    "collapsed": false
   },
   "outputs": [],
   "source": [
    "X_matrix = NPI_ind_model_d_X.drop(['pcp'], axis = 1)"
   ]
  },
  {
   "cell_type": "markdown",
   "metadata": {
    "collapsed": true
   },
   "source": [
    "df_state = pd.get_dummies(NPI_ind_model_d['nppes_provider_state'])"
   ]
  },
  {
   "cell_type": "markdown",
   "metadata": {
    "collapsed": false
   },
   "source": [
    "# Make dummy variables\n",
    "NPI_ind_model_d = pd.concat([NPI_ind_model_d, df_state], axis=1)\n",
    "NPI_ind_model_d.drop(['nppes_provider_state'], axis=1, inplace=True)"
   ]
  },
  {
   "cell_type": "code",
   "execution_count": 25,
   "metadata": {
    "collapsed": false
   },
   "outputs": [],
   "source": [
    "X_matrix = pd.get_dummies(X_matrix)"
   ]
  },
  {
   "cell_type": "code",
   "execution_count": 26,
   "metadata": {
    "collapsed": false
   },
   "outputs": [
    {
     "data": {
      "text/plain": [
       "Index([u'number_of_hcpcs', u'total_services', u'total_unique_benes',\n",
       "       u'total_submitted_chrg_amt', u'total_medicare_allowed_amt',\n",
       "       u'total_medicare_payment_amt', u'total_medicare_stnd_amt',\n",
       "       u'number_of_drug_hcpcs', u'total_drug_services',\n",
       "       u'total_drug_unique_benes', u'total_drug_submitted_chrg_amt',\n",
       "       u'total_drug_medicare_allowed_amt', u'total_drug_medicare_payment_amt',\n",
       "       u'total_drug_medicare_stnd_amt', u'number_of_med_hcpcs',\n",
       "       u'total_med_services', u'total_med_unique_benes',\n",
       "       u'total_med_submitted_chrg_amt', u'total_med_medicare_allowed_amt',\n",
       "       u'total_med_medicare_payment_amt', u'total_med_medicare_stnd_amt',\n",
       "       u'beneficiary_average_age', u'beneficiary_age_65_74_count',\n",
       "       u'beneficiary_female_count', u'beneficiary_male_count',\n",
       "       u'beneficiary_nondual_count', u'beneficiary_dual_count',\n",
       "       u'beneficiary_cc_chf_percent', u'beneficiary_cc_ckd_percent',\n",
       "       u'beneficiary_cc_copd_percent', u'beneficiary_cc_depr_percent',\n",
       "       u'beneficiary_cc_diab_percent', u'beneficiary_cc_hyperl_percent',\n",
       "       u'beneficiary_cc_hypert_percent', u'beneficiary_cc_ihd_percent',\n",
       "       u'beneficiary_cc_raoa_percent', u'Beneficiary_Average_Risk_Score',\n",
       "       u'nppes_provider_gender_F', u'nppes_provider_gender_M',\n",
       "       u'nppes_provider_state_AA', u'nppes_provider_state_AE',\n",
       "       u'nppes_provider_state_AK', u'nppes_provider_state_AL',\n",
       "       u'nppes_provider_state_AP', u'nppes_provider_state_AR',\n",
       "       u'nppes_provider_state_AZ', u'nppes_provider_state_CA',\n",
       "       u'nppes_provider_state_CO', u'nppes_provider_state_CT',\n",
       "       u'nppes_provider_state_DC', u'nppes_provider_state_DE',\n",
       "       u'nppes_provider_state_FL', u'nppes_provider_state_GA',\n",
       "       u'nppes_provider_state_GU', u'nppes_provider_state_HI',\n",
       "       u'nppes_provider_state_IA', u'nppes_provider_state_ID',\n",
       "       u'nppes_provider_state_IL', u'nppes_provider_state_IN',\n",
       "       u'nppes_provider_state_KS', u'nppes_provider_state_KY',\n",
       "       u'nppes_provider_state_LA', u'nppes_provider_state_MA',\n",
       "       u'nppes_provider_state_MD', u'nppes_provider_state_ME',\n",
       "       u'nppes_provider_state_MI', u'nppes_provider_state_MN',\n",
       "       u'nppes_provider_state_MO', u'nppes_provider_state_MP',\n",
       "       u'nppes_provider_state_MS', u'nppes_provider_state_MT',\n",
       "       u'nppes_provider_state_NC', u'nppes_provider_state_ND',\n",
       "       u'nppes_provider_state_NE', u'nppes_provider_state_NH',\n",
       "       u'nppes_provider_state_NJ', u'nppes_provider_state_NM',\n",
       "       u'nppes_provider_state_NV', u'nppes_provider_state_NY',\n",
       "       u'nppes_provider_state_OH', u'nppes_provider_state_OK',\n",
       "       u'nppes_provider_state_OR', u'nppes_provider_state_PA',\n",
       "       u'nppes_provider_state_PR', u'nppes_provider_state_RI',\n",
       "       u'nppes_provider_state_SC', u'nppes_provider_state_SD',\n",
       "       u'nppes_provider_state_TN', u'nppes_provider_state_TX',\n",
       "       u'nppes_provider_state_UT', u'nppes_provider_state_VA',\n",
       "       u'nppes_provider_state_VI', u'nppes_provider_state_VT',\n",
       "       u'nppes_provider_state_WA', u'nppes_provider_state_WI',\n",
       "       u'nppes_provider_state_WV', u'nppes_provider_state_WY',\n",
       "       u'nppes_provider_state_ZZ', u'medicare_participation_indicator_N',\n",
       "       u'medicare_participation_indicator_Y'],\n",
       "      dtype='object')"
      ]
     },
     "execution_count": 26,
     "metadata": {},
     "output_type": "execute_result"
    }
   ],
   "source": [
    "X_matrix.columns"
   ]
  },
  {
   "cell_type": "code",
   "execution_count": 27,
   "metadata": {
    "collapsed": false
   },
   "outputs": [],
   "source": [
    "# Split train, test set\n",
    "# Aim to set aside 30% data as test set, and 70% as train_valid set\n",
    "\n",
    "from sklearn.cross_validation import train_test_split\n",
    "X_tr_va, X_test, y_tr_va, y_test = train_test_split(X_matrix, y, test_size=0.3)"
   ]
  },
  {
   "cell_type": "code",
   "execution_count": 28,
   "metadata": {
    "collapsed": false
   },
   "outputs": [
    {
     "data": {
      "text/plain": [
       "number_of_hcpcs                         int64\n",
       "total_services                        float64\n",
       "total_unique_benes                      int64\n",
       "total_submitted_chrg_amt              float64\n",
       "total_medicare_allowed_amt            float64\n",
       "total_medicare_payment_amt            float64\n",
       "total_medicare_stnd_amt               float64\n",
       "number_of_drug_hcpcs                  float64\n",
       "total_drug_services                   float64\n",
       "total_drug_unique_benes               float64\n",
       "total_drug_submitted_chrg_amt         float64\n",
       "total_drug_medicare_allowed_amt       float64\n",
       "total_drug_medicare_payment_amt       float64\n",
       "total_drug_medicare_stnd_amt          float64\n",
       "number_of_med_hcpcs                   float64\n",
       "total_med_services                    float64\n",
       "total_med_unique_benes                float64\n",
       "total_med_submitted_chrg_amt          float64\n",
       "total_med_medicare_allowed_amt        float64\n",
       "total_med_medicare_payment_amt        float64\n",
       "total_med_medicare_stnd_amt           float64\n",
       "beneficiary_average_age                 int64\n",
       "beneficiary_age_65_74_count           float64\n",
       "beneficiary_female_count              float64\n",
       "beneficiary_male_count                float64\n",
       "beneficiary_nondual_count             float64\n",
       "beneficiary_dual_count                float64\n",
       "beneficiary_cc_chf_percent            float64\n",
       "beneficiary_cc_ckd_percent            float64\n",
       "beneficiary_cc_copd_percent           float64\n",
       "                                       ...   \n",
       "nppes_provider_state_MT                 uint8\n",
       "nppes_provider_state_NC                 uint8\n",
       "nppes_provider_state_ND                 uint8\n",
       "nppes_provider_state_NE                 uint8\n",
       "nppes_provider_state_NH                 uint8\n",
       "nppes_provider_state_NJ                 uint8\n",
       "nppes_provider_state_NM                 uint8\n",
       "nppes_provider_state_NV                 uint8\n",
       "nppes_provider_state_NY                 uint8\n",
       "nppes_provider_state_OH                 uint8\n",
       "nppes_provider_state_OK                 uint8\n",
       "nppes_provider_state_OR                 uint8\n",
       "nppes_provider_state_PA                 uint8\n",
       "nppes_provider_state_PR                 uint8\n",
       "nppes_provider_state_RI                 uint8\n",
       "nppes_provider_state_SC                 uint8\n",
       "nppes_provider_state_SD                 uint8\n",
       "nppes_provider_state_TN                 uint8\n",
       "nppes_provider_state_TX                 uint8\n",
       "nppes_provider_state_UT                 uint8\n",
       "nppes_provider_state_VA                 uint8\n",
       "nppes_provider_state_VI                 uint8\n",
       "nppes_provider_state_VT                 uint8\n",
       "nppes_provider_state_WA                 uint8\n",
       "nppes_provider_state_WI                 uint8\n",
       "nppes_provider_state_WV                 uint8\n",
       "nppes_provider_state_WY                 uint8\n",
       "nppes_provider_state_ZZ                 uint8\n",
       "medicare_participation_indicator_N      uint8\n",
       "medicare_participation_indicator_Y      uint8\n",
       "dtype: object"
      ]
     },
     "execution_count": 28,
     "metadata": {},
     "output_type": "execute_result"
    }
   ],
   "source": [
    "X_tr_va.dtypes"
   ]
  },
  {
   "cell_type": "code",
   "execution_count": 29,
   "metadata": {
    "collapsed": false
   },
   "outputs": [
    {
     "data": {
      "text/html": [
       "<div>\n",
       "<table border=\"1\" class=\"dataframe\">\n",
       "  <thead>\n",
       "    <tr style=\"text-align: right;\">\n",
       "      <th></th>\n",
       "      <th>number_of_hcpcs</th>\n",
       "      <th>total_services</th>\n",
       "      <th>total_unique_benes</th>\n",
       "      <th>total_submitted_chrg_amt</th>\n",
       "      <th>total_medicare_allowed_amt</th>\n",
       "      <th>total_medicare_payment_amt</th>\n",
       "      <th>total_medicare_stnd_amt</th>\n",
       "      <th>number_of_drug_hcpcs</th>\n",
       "      <th>total_drug_services</th>\n",
       "      <th>total_drug_unique_benes</th>\n",
       "      <th>...</th>\n",
       "      <th>nppes_provider_state_VA</th>\n",
       "      <th>nppes_provider_state_VI</th>\n",
       "      <th>nppes_provider_state_VT</th>\n",
       "      <th>nppes_provider_state_WA</th>\n",
       "      <th>nppes_provider_state_WI</th>\n",
       "      <th>nppes_provider_state_WV</th>\n",
       "      <th>nppes_provider_state_WY</th>\n",
       "      <th>nppes_provider_state_ZZ</th>\n",
       "      <th>medicare_participation_indicator_N</th>\n",
       "      <th>medicare_participation_indicator_Y</th>\n",
       "    </tr>\n",
       "  </thead>\n",
       "  <tbody>\n",
       "    <tr>\n",
       "      <th>count</th>\n",
       "      <td>444684.000000</td>\n",
       "      <td>4.446840e+05</td>\n",
       "      <td>444684.000000</td>\n",
       "      <td>4.446840e+05</td>\n",
       "      <td>4.446840e+05</td>\n",
       "      <td>4.446840e+05</td>\n",
       "      <td>4.446840e+05</td>\n",
       "      <td>444684.000000</td>\n",
       "      <td>4.446840e+05</td>\n",
       "      <td>444684.000000</td>\n",
       "      <td>...</td>\n",
       "      <td>444684.000000</td>\n",
       "      <td>444684.000000</td>\n",
       "      <td>444684.000000</td>\n",
       "      <td>444684.000000</td>\n",
       "      <td>444684.000000</td>\n",
       "      <td>444684.000000</td>\n",
       "      <td>444684.000000</td>\n",
       "      <td>444684.000000</td>\n",
       "      <td>444684.000000</td>\n",
       "      <td>444684.000000</td>\n",
       "    </tr>\n",
       "    <tr>\n",
       "      <th>mean</th>\n",
       "      <td>48.537978</td>\n",
       "      <td>3.792676e+03</td>\n",
       "      <td>562.612808</td>\n",
       "      <td>4.843069e+05</td>\n",
       "      <td>1.782208e+05</td>\n",
       "      <td>1.349512e+05</td>\n",
       "      <td>1.345689e+05</td>\n",
       "      <td>2.855560</td>\n",
       "      <td>1.803580e+03</td>\n",
       "      <td>36.689634</td>\n",
       "      <td>...</td>\n",
       "      <td>0.026734</td>\n",
       "      <td>0.000056</td>\n",
       "      <td>0.002163</td>\n",
       "      <td>0.018867</td>\n",
       "      <td>0.018723</td>\n",
       "      <td>0.006976</td>\n",
       "      <td>0.001441</td>\n",
       "      <td>0.000079</td>\n",
       "      <td>0.000002</td>\n",
       "      <td>0.999998</td>\n",
       "    </tr>\n",
       "    <tr>\n",
       "      <th>std</th>\n",
       "      <td>40.488247</td>\n",
       "      <td>1.726368e+04</td>\n",
       "      <td>689.262935</td>\n",
       "      <td>8.421349e+05</td>\n",
       "      <td>3.264740e+05</td>\n",
       "      <td>2.525901e+05</td>\n",
       "      <td>2.500769e+05</td>\n",
       "      <td>7.250413</td>\n",
       "      <td>1.610795e+04</td>\n",
       "      <td>83.011842</td>\n",
       "      <td>...</td>\n",
       "      <td>0.161304</td>\n",
       "      <td>0.007498</td>\n",
       "      <td>0.046461</td>\n",
       "      <td>0.136057</td>\n",
       "      <td>0.135547</td>\n",
       "      <td>0.083229</td>\n",
       "      <td>0.037939</td>\n",
       "      <td>0.008871</td>\n",
       "      <td>0.001500</td>\n",
       "      <td>0.001500</td>\n",
       "    </tr>\n",
       "    <tr>\n",
       "      <th>min</th>\n",
       "      <td>1.000000</td>\n",
       "      <td>4.000000e+01</td>\n",
       "      <td>32.000000</td>\n",
       "      <td>7.970800e+02</td>\n",
       "      <td>5.749600e+02</td>\n",
       "      <td>4.856600e+02</td>\n",
       "      <td>4.506600e+02</td>\n",
       "      <td>0.000000</td>\n",
       "      <td>0.000000e+00</td>\n",
       "      <td>0.000000</td>\n",
       "      <td>...</td>\n",
       "      <td>0.000000</td>\n",
       "      <td>0.000000</td>\n",
       "      <td>0.000000</td>\n",
       "      <td>0.000000</td>\n",
       "      <td>0.000000</td>\n",
       "      <td>0.000000</td>\n",
       "      <td>0.000000</td>\n",
       "      <td>0.000000</td>\n",
       "      <td>0.000000</td>\n",
       "      <td>0.000000</td>\n",
       "    </tr>\n",
       "    <tr>\n",
       "      <th>25%</th>\n",
       "      <td>20.000000</td>\n",
       "      <td>5.080000e+02</td>\n",
       "      <td>226.000000</td>\n",
       "      <td>1.378555e+05</td>\n",
       "      <td>4.987731e+04</td>\n",
       "      <td>3.720607e+04</td>\n",
       "      <td>3.797089e+04</td>\n",
       "      <td>0.000000</td>\n",
       "      <td>0.000000e+00</td>\n",
       "      <td>0.000000</td>\n",
       "      <td>...</td>\n",
       "      <td>0.000000</td>\n",
       "      <td>0.000000</td>\n",
       "      <td>0.000000</td>\n",
       "      <td>0.000000</td>\n",
       "      <td>0.000000</td>\n",
       "      <td>0.000000</td>\n",
       "      <td>0.000000</td>\n",
       "      <td>0.000000</td>\n",
       "      <td>0.000000</td>\n",
       "      <td>1.000000</td>\n",
       "    </tr>\n",
       "    <tr>\n",
       "      <th>50%</th>\n",
       "      <td>37.000000</td>\n",
       "      <td>1.160000e+03</td>\n",
       "      <td>363.000000</td>\n",
       "      <td>2.699758e+05</td>\n",
       "      <td>9.795147e+04</td>\n",
       "      <td>7.332896e+04</td>\n",
       "      <td>7.369515e+04</td>\n",
       "      <td>0.000000</td>\n",
       "      <td>0.000000e+00</td>\n",
       "      <td>0.000000</td>\n",
       "      <td>...</td>\n",
       "      <td>0.000000</td>\n",
       "      <td>0.000000</td>\n",
       "      <td>0.000000</td>\n",
       "      <td>0.000000</td>\n",
       "      <td>0.000000</td>\n",
       "      <td>0.000000</td>\n",
       "      <td>0.000000</td>\n",
       "      <td>0.000000</td>\n",
       "      <td>0.000000</td>\n",
       "      <td>1.000000</td>\n",
       "    </tr>\n",
       "    <tr>\n",
       "      <th>75%</th>\n",
       "      <td>63.000000</td>\n",
       "      <td>2.839000e+03</td>\n",
       "      <td>616.000000</td>\n",
       "      <td>5.292202e+05</td>\n",
       "      <td>1.904517e+05</td>\n",
       "      <td>1.430553e+05</td>\n",
       "      <td>1.431590e+05</td>\n",
       "      <td>3.000000</td>\n",
       "      <td>1.090000e+02</td>\n",
       "      <td>38.000000</td>\n",
       "      <td>...</td>\n",
       "      <td>0.000000</td>\n",
       "      <td>0.000000</td>\n",
       "      <td>0.000000</td>\n",
       "      <td>0.000000</td>\n",
       "      <td>0.000000</td>\n",
       "      <td>0.000000</td>\n",
       "      <td>0.000000</td>\n",
       "      <td>0.000000</td>\n",
       "      <td>0.000000</td>\n",
       "      <td>1.000000</td>\n",
       "    </tr>\n",
       "    <tr>\n",
       "      <th>max</th>\n",
       "      <td>619.000000</td>\n",
       "      <td>3.452292e+06</td>\n",
       "      <td>55886.000000</td>\n",
       "      <td>4.156214e+07</td>\n",
       "      <td>1.894713e+07</td>\n",
       "      <td>1.480165e+07</td>\n",
       "      <td>1.520900e+07</td>\n",
       "      <td>119.000000</td>\n",
       "      <td>3.443171e+06</td>\n",
       "      <td>10835.000000</td>\n",
       "      <td>...</td>\n",
       "      <td>1.000000</td>\n",
       "      <td>1.000000</td>\n",
       "      <td>1.000000</td>\n",
       "      <td>1.000000</td>\n",
       "      <td>1.000000</td>\n",
       "      <td>1.000000</td>\n",
       "      <td>1.000000</td>\n",
       "      <td>1.000000</td>\n",
       "      <td>1.000000</td>\n",
       "      <td>1.000000</td>\n",
       "    </tr>\n",
       "  </tbody>\n",
       "</table>\n",
       "<p>8 rows × 100 columns</p>\n",
       "</div>"
      ],
      "text/plain": [
       "       number_of_hcpcs  total_services  total_unique_benes  \\\n",
       "count    444684.000000    4.446840e+05       444684.000000   \n",
       "mean         48.537978    3.792676e+03          562.612808   \n",
       "std          40.488247    1.726368e+04          689.262935   \n",
       "min           1.000000    4.000000e+01           32.000000   \n",
       "25%          20.000000    5.080000e+02          226.000000   \n",
       "50%          37.000000    1.160000e+03          363.000000   \n",
       "75%          63.000000    2.839000e+03          616.000000   \n",
       "max         619.000000    3.452292e+06        55886.000000   \n",
       "\n",
       "       total_submitted_chrg_amt  total_medicare_allowed_amt  \\\n",
       "count              4.446840e+05                4.446840e+05   \n",
       "mean               4.843069e+05                1.782208e+05   \n",
       "std                8.421349e+05                3.264740e+05   \n",
       "min                7.970800e+02                5.749600e+02   \n",
       "25%                1.378555e+05                4.987731e+04   \n",
       "50%                2.699758e+05                9.795147e+04   \n",
       "75%                5.292202e+05                1.904517e+05   \n",
       "max                4.156214e+07                1.894713e+07   \n",
       "\n",
       "       total_medicare_payment_amt  total_medicare_stnd_amt  \\\n",
       "count                4.446840e+05             4.446840e+05   \n",
       "mean                 1.349512e+05             1.345689e+05   \n",
       "std                  2.525901e+05             2.500769e+05   \n",
       "min                  4.856600e+02             4.506600e+02   \n",
       "25%                  3.720607e+04             3.797089e+04   \n",
       "50%                  7.332896e+04             7.369515e+04   \n",
       "75%                  1.430553e+05             1.431590e+05   \n",
       "max                  1.480165e+07             1.520900e+07   \n",
       "\n",
       "       number_of_drug_hcpcs  total_drug_services  total_drug_unique_benes  \\\n",
       "count         444684.000000         4.446840e+05            444684.000000   \n",
       "mean               2.855560         1.803580e+03                36.689634   \n",
       "std                7.250413         1.610795e+04                83.011842   \n",
       "min                0.000000         0.000000e+00                 0.000000   \n",
       "25%                0.000000         0.000000e+00                 0.000000   \n",
       "50%                0.000000         0.000000e+00                 0.000000   \n",
       "75%                3.000000         1.090000e+02                38.000000   \n",
       "max              119.000000         3.443171e+06             10835.000000   \n",
       "\n",
       "                      ...                  nppes_provider_state_VA  \\\n",
       "count                 ...                            444684.000000   \n",
       "mean                  ...                                 0.026734   \n",
       "std                   ...                                 0.161304   \n",
       "min                   ...                                 0.000000   \n",
       "25%                   ...                                 0.000000   \n",
       "50%                   ...                                 0.000000   \n",
       "75%                   ...                                 0.000000   \n",
       "max                   ...                                 1.000000   \n",
       "\n",
       "       nppes_provider_state_VI  nppes_provider_state_VT  \\\n",
       "count            444684.000000            444684.000000   \n",
       "mean                  0.000056                 0.002163   \n",
       "std                   0.007498                 0.046461   \n",
       "min                   0.000000                 0.000000   \n",
       "25%                   0.000000                 0.000000   \n",
       "50%                   0.000000                 0.000000   \n",
       "75%                   0.000000                 0.000000   \n",
       "max                   1.000000                 1.000000   \n",
       "\n",
       "       nppes_provider_state_WA  nppes_provider_state_WI  \\\n",
       "count            444684.000000            444684.000000   \n",
       "mean                  0.018867                 0.018723   \n",
       "std                   0.136057                 0.135547   \n",
       "min                   0.000000                 0.000000   \n",
       "25%                   0.000000                 0.000000   \n",
       "50%                   0.000000                 0.000000   \n",
       "75%                   0.000000                 0.000000   \n",
       "max                   1.000000                 1.000000   \n",
       "\n",
       "       nppes_provider_state_WV  nppes_provider_state_WY  \\\n",
       "count            444684.000000            444684.000000   \n",
       "mean                  0.006976                 0.001441   \n",
       "std                   0.083229                 0.037939   \n",
       "min                   0.000000                 0.000000   \n",
       "25%                   0.000000                 0.000000   \n",
       "50%                   0.000000                 0.000000   \n",
       "75%                   0.000000                 0.000000   \n",
       "max                   1.000000                 1.000000   \n",
       "\n",
       "       nppes_provider_state_ZZ  medicare_participation_indicator_N  \\\n",
       "count            444684.000000                       444684.000000   \n",
       "mean                  0.000079                            0.000002   \n",
       "std                   0.008871                            0.001500   \n",
       "min                   0.000000                            0.000000   \n",
       "25%                   0.000000                            0.000000   \n",
       "50%                   0.000000                            0.000000   \n",
       "75%                   0.000000                            0.000000   \n",
       "max                   1.000000                            1.000000   \n",
       "\n",
       "       medicare_participation_indicator_Y  \n",
       "count                       444684.000000  \n",
       "mean                             0.999998  \n",
       "std                              0.001500  \n",
       "min                              0.000000  \n",
       "25%                              1.000000  \n",
       "50%                              1.000000  \n",
       "75%                              1.000000  \n",
       "max                              1.000000  \n",
       "\n",
       "[8 rows x 100 columns]"
      ]
     },
     "execution_count": 29,
     "metadata": {},
     "output_type": "execute_result"
    }
   ],
   "source": [
    "X_matrix.describe()"
   ]
  },
  {
   "cell_type": "code",
   "execution_count": 30,
   "metadata": {
    "collapsed": false
   },
   "outputs": [],
   "source": [
    "# Since the X matrix has a mixture of both categorical and continous variables\n",
    "# Due to missing data, and dummy variable generation, the dataset is sparse\n",
    "# I decided to use Random Forest, the tree ensemble method to do the preliminary model training\n",
    "\n",
    "# Start with a less complicated RF to explore the data\n",
    "rf_model = RandomForestClassifier(max_depth=None, n_estimators=10, max_features= 1,\\\n",
    "                            min_samples_split=100,min_samples_leaf = 10000, bootstrap=False, criterion='gini') \n",
    "RF_try = rf_model.fit(X_tr_va, y_tr_va) #model fitting"
   ]
  },
  {
   "cell_type": "code",
   "execution_count": 31,
   "metadata": {
    "collapsed": false
   },
   "outputs": [],
   "source": [
    "# Use cross-validation to look at the RF_try model's consistency\n",
    "from sklearn.model_selection import cross_val_score\n",
    "from sklearn import cross_validation\n",
    "from sklearn.metrics import roc_auc_score\n",
    "from sklearn.metrics import accuracy_score\n",
    "from sklearn.metrics import f1_score\n",
    "\n",
    "cv = cross_validation.ShuffleSplit(len(y_tr_va), n_iter=5,test_size=0.2) # 5 inter of cv"
   ]
  },
  {
   "cell_type": "code",
   "execution_count": 32,
   "metadata": {
    "collapsed": false
   },
   "outputs": [
    {
     "name": "stdout",
     "output_type": "stream",
     "text": [
      "score_mean =  0.759714726291 score_std =  0.000697750463349 roc_auc_score =  0.720271947696\n",
      "acc =  0.759913347226\n",
      "f1 =  0.6562462819\n"
     ]
    },
    {
     "name": "stderr",
     "output_type": "stream",
     "text": [
      "/Users/zybell/anaconda2/lib/python2.7/site-packages/sklearn/metrics/classification.py:1113: UndefinedMetricWarning: F-score is ill-defined and being set to 0.0 in labels with no predicted samples.\n",
      "  'precision', 'predicted', average, warn_for)\n"
     ]
    }
   ],
   "source": [
    "scores_RF_try = cross_validation.cross_val_score(RF_try, X_tr_va, y_tr_va, cv=cv)\n",
    "\n",
    "auc_score = roc_auc_score(y_test, RF_try.predict_proba(X_test)[:,1])\n",
    "\n",
    "acc = accuracy_score(y_test, RF_try.predict(X_test))\n",
    "f1 = f1_score(y_test, RF_try.predict(X_test),average='weighted')\n",
    "\n",
    "print \"score_mean = \", scores_RF_try.mean(), \n",
    "print \"score_std = \", scores_RF_try.std(),\n",
    "print \"roc_auc_score = \", auc_score\n",
    "print \"acc = \", acc\n",
    "print \"f1 = \", f1"
   ]
  },
  {
   "cell_type": "code",
   "execution_count": 33,
   "metadata": {
    "collapsed": false
   },
   "outputs": [
    {
     "name": "stdout",
     "output_type": "stream",
     "text": [
      "score_mean =  0.872616294012 score_std =  0.00138916338506\n",
      "roc_auc_score =  0.921255022699\n",
      "acc =  0.876594755858\n",
      "f1 =  0.868546090103\n"
     ]
    }
   ],
   "source": [
    "## Play with parameters\n",
    "\n",
    "# max_depth = None\n",
    "# n_estimator = 100\n",
    "# min_samples_leaf = 1000\n",
    "# Bootstrap = False\n",
    "\n",
    "rf_model_2 = RandomForestClassifier(max_depth=None, n_estimators=100,\\\n",
    "                            min_samples_split=100,min_samples_leaf = 1000, bootstrap=False,criterion='gini') \n",
    "RF_try_2 = rf_model_2.fit(X_tr_va, y_tr_va) #model fitting\n",
    "\n",
    "\n",
    "scores_RF_try = cross_validation.cross_val_score(RF_try_2, X_tr_va, y_tr_va, cv=cv)\n",
    "auc_score = roc_auc_score(y_test, RF_try_2.predict_proba(X_test)[:,1])\n",
    "acc = accuracy_score(y_test, RF_try_2.predict(X_test))\n",
    "f1 = f1_score(y_test, RF_try_2.predict(X_test),average='weighted')\n",
    "\n",
    "print \"score_mean = \", scores_RF_try.mean(), \n",
    "print \"score_std = \", scores_RF_try.std()\n",
    "print \"roc_auc_score = \", auc_score\n",
    "print \"acc = \", acc\n",
    "print \"f1 = \", f1"
   ]
  },
  {
   "cell_type": "markdown",
   "metadata": {},
   "source": [
    "Tree performance greatly improved with test set.\n",
    "Now try Bootstrap = True"
   ]
  },
  {
   "cell_type": "code",
   "execution_count": 34,
   "metadata": {
    "collapsed": false
   },
   "outputs": [
    {
     "name": "stdout",
     "output_type": "stream",
     "text": [
      "score_mean =  0.868199049088 score_std =  0.000695320508716\n",
      "roc_auc_score =  0.914638454181\n",
      "acc =  0.868791508628\n",
      "f1 =  0.858788975557\n"
     ]
    }
   ],
   "source": [
    "# max_depth = None\n",
    "# n_estimator = 150\n",
    "# min_samples_leaf = 1000\n",
    "# bootstrap = True\n",
    "\n",
    "rf_model_3 = RandomForestClassifier(max_depth=None, n_estimators=150,\\\n",
    "                            min_samples_split=100,min_samples_leaf = 1000, bootstrap=True,criterion='gini') \n",
    "RF_try_3 = rf_model_3.fit(X_tr_va, y_tr_va) #model fitting\n",
    "\n",
    "\n",
    "scores_RF_try = cross_validation.cross_val_score(RF_try_3, X_tr_va, y_tr_va, cv=cv)\n",
    "auc_score = roc_auc_score(y_test, RF_try_3.predict_proba(X_test)[:,1])\n",
    "acc = accuracy_score(y_test, RF_try_3.predict(X_test))\n",
    "f1 = f1_score(y_test, RF_try_3.predict(X_test),average='weighted')\n",
    "\n",
    "print \"score_mean = \", scores_RF_try.mean(), \n",
    "print \"score_std = \", scores_RF_try.std()\n",
    "print \"roc_auc_score = \", auc_score\n",
    "print \"acc = \", acc\n",
    "print \"f1 = \", f1"
   ]
  },
  {
   "cell_type": "raw",
   "metadata": {},
   "source": [
    "Bootstrap = True does not seem to improve classifier performance"
   ]
  },
  {
   "cell_type": "code",
   "execution_count": 35,
   "metadata": {
    "collapsed": false
   },
   "outputs": [
    {
     "name": "stderr",
     "output_type": "stream",
     "text": [
      "/Users/zybell/anaconda2/lib/python2.7/site-packages/sklearn/grid_search.py:43: DeprecationWarning: This module was deprecated in version 0.18 in favor of the model_selection module into which all the refactored classes and functions are moved. This module will be removed in 0.20.\n",
      "  DeprecationWarning)\n"
     ]
    },
    {
     "name": "stdout",
     "output_type": "stream",
     "text": [
      "{'max_features': 'sqrt', 'min_samples_split': 150, 'n_estimators': 150, 'min_samples_leaf': 500}\n"
     ]
    }
   ],
   "source": [
    "# To tune the hyper-parameters of an estimator, we can either use grid search or randomized parameter optimization.\n",
    "from sklearn.grid_search import GridSearchCV\n",
    "from sklearn.datasets import make_classification\n",
    "\n",
    "rfc = RandomForestClassifier(n_jobs=-1,max_features= 'auto' ,n_estimators=150, oob_score = True,\\\n",
    "                            min_samples_split=100,min_samples_leaf = 1000, bootstrap=True,criterion='gini') \n",
    "\n",
    "param_grid = {\n",
    "    'n_estimators': [100,150,200],\n",
    "    'max_features': ['auto', 'sqrt', 'log2'],\n",
    "    'min_samples_split': [50,100,150],\n",
    "    'min_samples_leaf': [500,1000,5000,10000]\n",
    "}\n",
    "\n",
    "CV_rfc = GridSearchCV(estimator=rfc, param_grid=param_grid, cv= 3)\n",
    "CV_rfc.fit(X_tr_va, y_tr_va)\n",
    "print CV_rfc.best_params_"
   ]
  },
  {
   "cell_type": "code",
   "execution_count": 36,
   "metadata": {
    "collapsed": false
   },
   "outputs": [],
   "source": [
    "# Build the final Random Forest model with hyperparameters from the grid search result:\n",
    "rf_final_model = RandomForestClassifier(max_features= 'auto', n_estimators=200,\\\n",
    "                                        oob_score = True, max_depth=None, min_samples_split=50,\\\n",
    "                                        min_samples_leaf = 500, bootstrap=True,criterion='gini') \n",
    "RF_final = rf_final_model.fit(X_tr_va, y_tr_va)"
   ]
  },
  {
   "cell_type": "code",
   "execution_count": 37,
   "metadata": {
    "collapsed": false
   },
   "outputs": [
    {
     "name": "stdout",
     "output_type": "stream",
     "text": [
      "score_mean =  0.877390131072 score_std =  0.00120854779308\n",
      "roc_auc_score =  0.924492158599\n",
      "acc =  0.880200290841\n",
      "f1 =  0.872828947458\n"
     ]
    }
   ],
   "source": [
    "scores_RF_final = cross_validation.cross_val_score(RF_final, X_tr_va, y_tr_va, cv=cv)\n",
    "auc_score = roc_auc_score(y_test, RF_final.predict_proba(X_test)[:,1])\n",
    "acc = accuracy_score(y_test, RF_final.predict(X_test))\n",
    "f1 = f1_score(y_test, RF_final.predict(X_test),average='weighted')\n",
    "\n",
    "print \"score_mean = \", scores_RF_final.mean(), \n",
    "print \"score_std = \", scores_RF_final.std()\n",
    "print \"roc_auc_score = \", auc_score\n",
    "print \"acc = \", acc\n",
    "print \"f1 = \", f1"
   ]
  },
  {
   "cell_type": "markdown",
   "metadata": {},
   "source": [
    "With the final trained Random Forest model, I made prediction on the held out \"test\" dataset, and the AUC is 0.92 for this held out set"
   ]
  },
  {
   "cell_type": "code",
   "execution_count": 38,
   "metadata": {
    "collapsed": true
   },
   "outputs": [],
   "source": [
    "# Calculate fpr, tpr and thresholds on the test set for the final Random Forest model\n",
    "from sklearn.metrics import roc_curve, auc\n",
    "fpr, tpr, thresholds = roc_curve(y_test, RF_final.predict_proba(X_test)[:,1])"
   ]
  },
  {
   "cell_type": "code",
   "execution_count": 39,
   "metadata": {
    "collapsed": false
   },
   "outputs": [
    {
     "data": {
      "image/png": "[encoded data removed]",
      "text/plain": [
       "<matplotlib.figure.Figure at 0x12a26aed0>"
      ]
     },
     "metadata": {},
     "output_type": "display_data"
    }
   ],
   "source": [
    "# Visualize ROC curve on the test set\n",
    "plt.figure()\n",
    "lw = 2\n",
    "plt.plot(fpr, tpr, color='darkorange',\n",
    "         lw=lw, label='ROC curve (area = %0.2f)' % auc_score)\n",
    "plt.plot([0, 1], [0, 1], color='navy', lw=lw, linestyle='--')\n",
    "plt.xlim([-0.05, 1.0])\n",
    "plt.ylim([-0.05, 1.05])\n",
    "plt.xlabel('False Positive Rate')\n",
    "plt.ylabel('True Positive Rate')\n",
    "plt.title('ROC for pcp classifier on test dataset')\n",
    "plt.legend(loc=\"lower right\")\n",
    "plt.show()"
   ]
  },
  {
   "cell_type": "code",
   "execution_count": 40,
   "metadata": {
    "collapsed": true
   },
   "outputs": [],
   "source": [
    "# Look at feature importance and see which variables in X are the best indicators for pcp classification\n",
    "importance = rf_final_model.feature_importances_\n",
    "importance = pd.DataFrame(importance, index=X_matrix.columns, \n",
    "                          columns=[\"Importance\"])"
   ]
  },
  {
   "cell_type": "code",
   "execution_count": 41,
   "metadata": {
    "collapsed": false
   },
   "outputs": [
    {
     "data": {
      "text/html": [
       "<div>\n",
       "<table border=\"1\" class=\"dataframe\">\n",
       "  <thead>\n",
       "    <tr style=\"text-align: right;\">\n",
       "      <th></th>\n",
       "      <th>Importance</th>\n",
       "    </tr>\n",
       "  </thead>\n",
       "  <tbody>\n",
       "    <tr>\n",
       "      <th>number_of_drug_hcpcs</th>\n",
       "      <td>0.119924</td>\n",
       "    </tr>\n",
       "    <tr>\n",
       "      <th>total_drug_unique_benes</th>\n",
       "      <td>0.063840</td>\n",
       "    </tr>\n",
       "    <tr>\n",
       "      <th>total_drug_medicare_stnd_amt</th>\n",
       "      <td>0.057714</td>\n",
       "    </tr>\n",
       "    <tr>\n",
       "      <th>beneficiary_cc_ckd_percent</th>\n",
       "      <td>0.056593</td>\n",
       "    </tr>\n",
       "    <tr>\n",
       "      <th>total_drug_medicare_allowed_amt</th>\n",
       "      <td>0.054353</td>\n",
       "    </tr>\n",
       "  </tbody>\n",
       "</table>\n",
       "</div>"
      ],
      "text/plain": [
       "                                 Importance\n",
       "number_of_drug_hcpcs               0.119924\n",
       "total_drug_unique_benes            0.063840\n",
       "total_drug_medicare_stnd_amt       0.057714\n",
       "beneficiary_cc_ckd_percent         0.056593\n",
       "total_drug_medicare_allowed_amt    0.054353"
      ]
     },
     "execution_count": 41,
     "metadata": {},
     "output_type": "execute_result"
    }
   ],
   "source": [
    "importance.sort_values(['Importance'], ascending = [0]).head(5)"
   ]
  },
  {
   "cell_type": "markdown",
   "metadata": {},
   "source": [
    "The top 5 most important features to predict pcp are:\n",
    "(1)'number_of_drug_hcpcs', \n",
    "(2)'beneficiary_cc_ckd_percent',\n",
    "(3)'total_drug_medicare_payment_amt', \n",
    "(4)'total_drug_unique_benes',\n",
    "(5)'total_drug_submitted_chrg_amt'"
   ]
  }
 ],
 "metadata": {
  "kernelspec": {
   "display_name": "Python [conda root]",
   "language": "python",
   "name": "conda-root-py"
  },
  "language_info": {
   "codemirror_mode": {
    "name": "ipython",
    "version": 2
   },
   "file_extension": ".py",
   "mimetype": "text/x-python",
   "name": "python",
   "nbconvert_exporter": "python",
   "pygments_lexer": "ipython2",
   "version": "2.7.13"
  }
 },
 "nbformat": 4,
 "nbformat_minor": 2
}
